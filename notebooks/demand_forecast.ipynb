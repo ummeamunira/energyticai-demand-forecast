{
 "cells": [
  {
   "cell_type": "code",
   "execution_count": 2,
   "id": "a63ffe17",
   "metadata": {},
   "outputs": [],
   "source": [
    "import pandas as pd\n",
    "import numpy as np\n",
    "import matplotlib.pyplot as plt\n",
    "import seaborn as sns\n",
    "import datetime as dt\n",
    "\n",
    "from sklearn.model_selection import train_test_split, TimeSeriesSplit\n",
    "from sklearn.metrics import mean_squared_error, mean_absolute_error\n",
    "from sklearn.linear_model import LinearRegression\n",
    "from sklearn.ensemble import RandomForestRegressor\n",
    "from xgboost import XGBRegressor"
   ]
  },
  {
   "cell_type": "code",
   "execution_count": 3,
   "id": "b2edcc16",
   "metadata": {},
   "outputs": [
    {
     "data": {
      "application/vnd.microsoft.datawrangler.viewer.v0+json": {
       "columns": [
        {
         "name": "index",
         "rawType": "int64",
         "type": "integer"
        },
        {
         "name": "temp",
         "rawType": "float64",
         "type": "float"
        },
        {
         "name": "location",
         "rawType": "object",
         "type": "string"
        },
        {
         "name": "timestamp",
         "rawType": "datetime64[ns, UTC]",
         "type": "unknown"
        }
       ],
       "ref": "271af577-8bfa-48c8-951a-d6466d0cfb1b",
       "rows": [
        [
         "0",
         "-28.1",
         "CYEG ",
         "2018-01-01 00:00:00+00:00"
        ],
        [
         "1",
         "-28.3",
         "CYEG ",
         "2018-01-01 01:00:00+00:00"
        ],
        [
         "2",
         "-28.7",
         "CYEG ",
         "2018-01-01 02:00:00+00:00"
        ],
        [
         "3",
         "-28.5",
         "CYEG ",
         "2018-01-01 03:00:00+00:00"
        ],
        [
         "4",
         "-28.3",
         "CYEG ",
         "2018-01-01 04:00:00+00:00"
        ]
       ],
       "shape": {
        "columns": 3,
        "rows": 5
       }
      },
      "text/html": [
       "<div>\n",
       "<style scoped>\n",
       "    .dataframe tbody tr th:only-of-type {\n",
       "        vertical-align: middle;\n",
       "    }\n",
       "\n",
       "    .dataframe tbody tr th {\n",
       "        vertical-align: top;\n",
       "    }\n",
       "\n",
       "    .dataframe thead th {\n",
       "        text-align: right;\n",
       "    }\n",
       "</style>\n",
       "<table border=\"1\" class=\"dataframe\">\n",
       "  <thead>\n",
       "    <tr style=\"text-align: right;\">\n",
       "      <th></th>\n",
       "      <th>temp</th>\n",
       "      <th>location</th>\n",
       "      <th>timestamp</th>\n",
       "    </tr>\n",
       "  </thead>\n",
       "  <tbody>\n",
       "    <tr>\n",
       "      <th>0</th>\n",
       "      <td>-28.1</td>\n",
       "      <td>CYEG</td>\n",
       "      <td>2018-01-01 00:00:00+00:00</td>\n",
       "    </tr>\n",
       "    <tr>\n",
       "      <th>1</th>\n",
       "      <td>-28.3</td>\n",
       "      <td>CYEG</td>\n",
       "      <td>2018-01-01 01:00:00+00:00</td>\n",
       "    </tr>\n",
       "    <tr>\n",
       "      <th>2</th>\n",
       "      <td>-28.7</td>\n",
       "      <td>CYEG</td>\n",
       "      <td>2018-01-01 02:00:00+00:00</td>\n",
       "    </tr>\n",
       "    <tr>\n",
       "      <th>3</th>\n",
       "      <td>-28.5</td>\n",
       "      <td>CYEG</td>\n",
       "      <td>2018-01-01 03:00:00+00:00</td>\n",
       "    </tr>\n",
       "    <tr>\n",
       "      <th>4</th>\n",
       "      <td>-28.3</td>\n",
       "      <td>CYEG</td>\n",
       "      <td>2018-01-01 04:00:00+00:00</td>\n",
       "    </tr>\n",
       "  </tbody>\n",
       "</table>\n",
       "</div>"
      ],
      "text/plain": [
       "   temp location                 timestamp\n",
       "0 -28.1    CYEG  2018-01-01 00:00:00+00:00\n",
       "1 -28.3    CYEG  2018-01-01 01:00:00+00:00\n",
       "2 -28.7    CYEG  2018-01-01 02:00:00+00:00\n",
       "3 -28.5    CYEG  2018-01-01 03:00:00+00:00\n",
       "4 -28.3    CYEG  2018-01-01 04:00:00+00:00"
      ]
     },
     "execution_count": 3,
     "metadata": {},
     "output_type": "execute_result"
    }
   ],
   "source": [
    "#read temperature data\n",
    "temp_path=r\"..\\data\\historical_temperatures.csv\"\n",
    "temperatures = pd.read_csv(temp_path, usecols=range(4))\n",
    "temperatures['del_date'] = pd.to_datetime(temperatures['del_date'])\n",
    "temperatures['he'] = temperatures['he'].astype(int)\n",
    "temperatures['hour'] = temperatures['he'] - 1\n",
    "temperatures['timestamp'] = temperatures['del_date'] + pd.to_timedelta(temperatures['hour'], unit='h')\n",
    "temperatures.drop(['del_date', 'he', 'hour'], axis=1, inplace=True)\n",
    "temperatures.head()"
   ]
  },
  {
   "cell_type": "code",
   "execution_count": 4,
   "id": "951f501b",
   "metadata": {},
   "outputs": [],
   "source": [
    "#set 'timestamp' as datetime index\n",
    "temperatures.set_index('timestamp', inplace=True)\n",
    "temperatures.index = pd.to_datetime(temperatures.index)\n",
    "temperatures.sort_index(inplace=True)\n",
    "\n",
    "# Pivot the temperature data\n",
    "# Use 'timestamp' as index, 'location' as columns, and 'temp' as values\n",
    "pivoted_temperatures = temperatures.pivot_table(index='timestamp', columns='location', values='temp')\n",
    "\n",
    "# Rename the columns for clarity\n",
    "pivoted_temperatures.columns = ['CYEG_temp', 'CYYC_temp']"
   ]
  },
  {
   "cell_type": "code",
   "execution_count": 5,
   "id": "edb2dae6",
   "metadata": {},
   "outputs": [
    {
     "name": "stderr",
     "output_type": "stream",
     "text": [
      "C:\\Users\\cb44a\\AppData\\Local\\Temp\\ipykernel_9008\\3628361503.py:2: FutureWarning: 'H' is deprecated and will be removed in a future version, please use 'h' instead.\n",
      "  full_time_index = pd.date_range(start=temperatures.index.min(),\n"
     ]
    },
    {
     "data": {
      "application/vnd.microsoft.datawrangler.viewer.v0+json": {
       "columns": [
        {
         "name": "timestamp",
         "rawType": "datetime64[ns, UTC]",
         "type": "unknown"
        },
        {
         "name": "CYEG_temp",
         "rawType": "float64",
         "type": "float"
        },
        {
         "name": "CYYC_temp",
         "rawType": "float64",
         "type": "float"
        }
       ],
       "ref": "ccb51532-e8ae-4ed1-a6e4-6298d4ab2dc0",
       "rows": [
        [
         "2018-01-01 00:00:00+00:00",
         "-28.1",
         "-28.1"
        ],
        [
         "2018-01-01 01:00:00+00:00",
         "-28.3",
         "-28.6"
        ],
        [
         "2018-01-01 02:00:00+00:00",
         "-28.7",
         "-29.1"
        ],
        [
         "2018-01-01 03:00:00+00:00",
         "-28.5",
         "-30.0"
        ],
        [
         "2018-01-01 04:00:00+00:00",
         "-28.3",
         "-27.6"
        ]
       ],
       "shape": {
        "columns": 2,
        "rows": 5
       }
      },
      "text/html": [
       "<div>\n",
       "<style scoped>\n",
       "    .dataframe tbody tr th:only-of-type {\n",
       "        vertical-align: middle;\n",
       "    }\n",
       "\n",
       "    .dataframe tbody tr th {\n",
       "        vertical-align: top;\n",
       "    }\n",
       "\n",
       "    .dataframe thead th {\n",
       "        text-align: right;\n",
       "    }\n",
       "</style>\n",
       "<table border=\"1\" class=\"dataframe\">\n",
       "  <thead>\n",
       "    <tr style=\"text-align: right;\">\n",
       "      <th></th>\n",
       "      <th>CYEG_temp</th>\n",
       "      <th>CYYC_temp</th>\n",
       "    </tr>\n",
       "    <tr>\n",
       "      <th>timestamp</th>\n",
       "      <th></th>\n",
       "      <th></th>\n",
       "    </tr>\n",
       "  </thead>\n",
       "  <tbody>\n",
       "    <tr>\n",
       "      <th>2018-01-01 00:00:00+00:00</th>\n",
       "      <td>-28.1</td>\n",
       "      <td>-28.1</td>\n",
       "    </tr>\n",
       "    <tr>\n",
       "      <th>2018-01-01 01:00:00+00:00</th>\n",
       "      <td>-28.3</td>\n",
       "      <td>-28.6</td>\n",
       "    </tr>\n",
       "    <tr>\n",
       "      <th>2018-01-01 02:00:00+00:00</th>\n",
       "      <td>-28.7</td>\n",
       "      <td>-29.1</td>\n",
       "    </tr>\n",
       "    <tr>\n",
       "      <th>2018-01-01 03:00:00+00:00</th>\n",
       "      <td>-28.5</td>\n",
       "      <td>-30.0</td>\n",
       "    </tr>\n",
       "    <tr>\n",
       "      <th>2018-01-01 04:00:00+00:00</th>\n",
       "      <td>-28.3</td>\n",
       "      <td>-27.6</td>\n",
       "    </tr>\n",
       "  </tbody>\n",
       "</table>\n",
       "</div>"
      ],
      "text/plain": [
       "                           CYEG_temp  CYYC_temp\n",
       "timestamp                                      \n",
       "2018-01-01 00:00:00+00:00      -28.1      -28.1\n",
       "2018-01-01 01:00:00+00:00      -28.3      -28.6\n",
       "2018-01-01 02:00:00+00:00      -28.7      -29.1\n",
       "2018-01-01 03:00:00+00:00      -28.5      -30.0\n",
       "2018-01-01 04:00:00+00:00      -28.3      -27.6"
      ]
     },
     "execution_count": 5,
     "metadata": {},
     "output_type": "execute_result"
    }
   ],
   "source": [
    "# Create a full datetime index from the start to the end of the data at hourly frequency\n",
    "full_time_index = pd.date_range(start=temperatures.index.min(),\n",
    "                                end=temperatures.index.max(),\n",
    "                                freq='H')\n",
    "# Convert full_time_index to a DataFrame to merge temp data\n",
    "full_time_df = pd.DataFrame(index=full_time_index)\n",
    "full_time_df.index.name = 'timestamp'\n",
    "# Merge temp data with the full time index\n",
    "temp_data = full_time_df.merge(pivoted_temperatures, left_index=True, right_index=True, how='left')\n",
    "temp_data.head()"
   ]
  },
  {
   "cell_type": "code",
   "execution_count": 6,
   "id": "a8f6da8f",
   "metadata": {},
   "outputs": [
    {
     "data": {
      "application/vnd.microsoft.datawrangler.viewer.v0+json": {
       "columns": [
        {
         "name": "index",
         "rawType": "object",
         "type": "string"
        },
        {
         "name": "0",
         "rawType": "int64",
         "type": "integer"
        }
       ],
       "ref": "a3d101ca-7c86-42c6-8f8c-8ca771ce96e7",
       "rows": [
        [
         "CYEG_temp",
         "0"
        ],
        [
         "CYYC_temp",
         "0"
        ]
       ],
       "shape": {
        "columns": 1,
        "rows": 2
       }
      },
      "text/plain": [
       "CYEG_temp    0\n",
       "CYYC_temp    0\n",
       "dtype: int64"
      ]
     },
     "execution_count": 6,
     "metadata": {},
     "output_type": "execute_result"
    }
   ],
   "source": [
    "#null values in temp\n",
    "temp_data.isnull().sum()"
   ]
  },
  {
   "cell_type": "code",
   "execution_count": 7,
   "id": "e224e0d6",
   "metadata": {},
   "outputs": [
    {
     "data": {
      "image/png": "[encoded data removed]",
      "text/plain": [
       "<Figure size 1500x700 with 1 Axes>"
      ]
     },
     "metadata": {},
     "output_type": "display_data"
    }
   ],
   "source": [
    "import matplotlib.pyplot as plt\n",
    "# Visualize temperature trends\n",
    "plt.figure(figsize=(15, 7))\n",
    "plt.plot(temp_data.index, temp_data['CYYC_temp'], label='CYYC Temperature')\n",
    "plt.plot(temp_data.index, temp_data['CYEG_temp'], label='CYEG Temperature')\n",
    "plt.xlabel('Timestamp')\n",
    "plt.ylabel('Temperature (°C)')\n",
    "plt.title('Temperature Trends over Time')\n",
    "plt.legend()\n",
    "plt.grid(True)\n",
    "plt.show()"
   ]
  },
  {
   "cell_type": "code",
   "execution_count": 8,
   "id": "d50851f9",
   "metadata": {},
   "outputs": [
    {
     "data": {
      "application/vnd.microsoft.datawrangler.viewer.v0+json": {
       "columns": [
        {
         "name": "timestamp",
         "rawType": "datetime64[ns, UTC]",
         "type": "unknown"
        },
        {
         "name": "CYEG_temp",
         "rawType": "float64",
         "type": "float"
        },
        {
         "name": "CYYC_temp",
         "rawType": "float64",
         "type": "float"
        },
        {
         "name": "Avg_temp",
         "rawType": "float64",
         "type": "float"
        },
        {
         "name": "HDH",
         "rawType": "float64",
         "type": "float"
        },
        {
         "name": "CDH",
         "rawType": "float64",
         "type": "float"
        }
       ],
       "ref": "f3ac634a-cdc7-44c0-9141-2f36ed34490f",
       "rows": [
        [
         "2018-01-01 00:00:00+00:00",
         "-28.1",
         "-28.1",
         "-28.1",
         "46.1",
         "0.0"
        ],
        [
         "2018-01-01 01:00:00+00:00",
         "-28.3",
         "-28.6",
         "-28.450000000000003",
         "46.45",
         "0.0"
        ],
        [
         "2018-01-01 02:00:00+00:00",
         "-28.7",
         "-29.1",
         "-28.9",
         "46.9",
         "0.0"
        ],
        [
         "2018-01-01 03:00:00+00:00",
         "-28.5",
         "-30.0",
         "-29.25",
         "47.25",
         "0.0"
        ],
        [
         "2018-01-01 04:00:00+00:00",
         "-28.3",
         "-27.6",
         "-27.950000000000003",
         "45.95",
         "0.0"
        ]
       ],
       "shape": {
        "columns": 5,
        "rows": 5
       }
      },
      "text/html": [
       "<div>\n",
       "<style scoped>\n",
       "    .dataframe tbody tr th:only-of-type {\n",
       "        vertical-align: middle;\n",
       "    }\n",
       "\n",
       "    .dataframe tbody tr th {\n",
       "        vertical-align: top;\n",
       "    }\n",
       "\n",
       "    .dataframe thead th {\n",
       "        text-align: right;\n",
       "    }\n",
       "</style>\n",
       "<table border=\"1\" class=\"dataframe\">\n",
       "  <thead>\n",
       "    <tr style=\"text-align: right;\">\n",
       "      <th></th>\n",
       "      <th>CYEG_temp</th>\n",
       "      <th>CYYC_temp</th>\n",
       "      <th>Avg_temp</th>\n",
       "      <th>HDH</th>\n",
       "      <th>CDH</th>\n",
       "    </tr>\n",
       "    <tr>\n",
       "      <th>timestamp</th>\n",
       "      <th></th>\n",
       "      <th></th>\n",
       "      <th></th>\n",
       "      <th></th>\n",
       "      <th></th>\n",
       "    </tr>\n",
       "  </thead>\n",
       "  <tbody>\n",
       "    <tr>\n",
       "      <th>2018-01-01 00:00:00+00:00</th>\n",
       "      <td>-28.1</td>\n",
       "      <td>-28.1</td>\n",
       "      <td>-28.10</td>\n",
       "      <td>46.10</td>\n",
       "      <td>0.0</td>\n",
       "    </tr>\n",
       "    <tr>\n",
       "      <th>2018-01-01 01:00:00+00:00</th>\n",
       "      <td>-28.3</td>\n",
       "      <td>-28.6</td>\n",
       "      <td>-28.45</td>\n",
       "      <td>46.45</td>\n",
       "      <td>0.0</td>\n",
       "    </tr>\n",
       "    <tr>\n",
       "      <th>2018-01-01 02:00:00+00:00</th>\n",
       "      <td>-28.7</td>\n",
       "      <td>-29.1</td>\n",
       "      <td>-28.90</td>\n",
       "      <td>46.90</td>\n",
       "      <td>0.0</td>\n",
       "    </tr>\n",
       "    <tr>\n",
       "      <th>2018-01-01 03:00:00+00:00</th>\n",
       "      <td>-28.5</td>\n",
       "      <td>-30.0</td>\n",
       "      <td>-29.25</td>\n",
       "      <td>47.25</td>\n",
       "      <td>0.0</td>\n",
       "    </tr>\n",
       "    <tr>\n",
       "      <th>2018-01-01 04:00:00+00:00</th>\n",
       "      <td>-28.3</td>\n",
       "      <td>-27.6</td>\n",
       "      <td>-27.95</td>\n",
       "      <td>45.95</td>\n",
       "      <td>0.0</td>\n",
       "    </tr>\n",
       "  </tbody>\n",
       "</table>\n",
       "</div>"
      ],
      "text/plain": [
       "                           CYEG_temp  CYYC_temp  Avg_temp    HDH  CDH\n",
       "timestamp                                                            \n",
       "2018-01-01 00:00:00+00:00      -28.1      -28.1    -28.10  46.10  0.0\n",
       "2018-01-01 01:00:00+00:00      -28.3      -28.6    -28.45  46.45  0.0\n",
       "2018-01-01 02:00:00+00:00      -28.7      -29.1    -28.90  46.90  0.0\n",
       "2018-01-01 03:00:00+00:00      -28.5      -30.0    -29.25  47.25  0.0\n",
       "2018-01-01 04:00:00+00:00      -28.3      -27.6    -27.95  45.95  0.0"
      ]
     },
     "execution_count": 8,
     "metadata": {},
     "output_type": "execute_result"
    }
   ],
   "source": [
    "## Create temperature related other features\n",
    "#create average temp\n",
    "temp_data['Avg_temp']=(temp_data['CYEG_temp']+temp_data['CYYC_temp'])/2\n",
    "\n",
    "# Calculate Heating Degree Hours (HDH) & Cooling Degree Hours (CDH)\n",
    "# Define the base temperature\n",
    "base_temperature = 18\n",
    "# If Avg_temp is below base_temperature, calculate the difference, otherwise 0\n",
    "temp_data['HDH'] = np.maximum(0, base_temperature - temp_data['Avg_temp'])\n",
    "# If Avg_temp is above base_temperature, calculate the difference, otherwise 0\n",
    "temp_data['CDH'] = np.maximum(0, temp_data['Avg_temp'] - base_temperature)\n",
    "temp_data.head()"
   ]
  },
  {
   "cell_type": "code",
   "execution_count": 9,
   "id": "359cc4d5",
   "metadata": {},
   "outputs": [
    {
     "data": {
      "application/vnd.microsoft.datawrangler.viewer.v0+json": {
       "columns": [
        {
         "name": "index",
         "rawType": "int64",
         "type": "integer"
        },
        {
         "name": "year",
         "rawType": "int64",
         "type": "integer"
        },
        {
         "name": "Population_Millions",
         "rawType": "float64",
         "type": "float"
        }
       ],
       "ref": "e8038492-f512-4c4d-8f21-1dc7f5ff030d",
       "rows": [
        [
         "0",
         "2018",
         "4.33"
        ],
        [
         "1",
         "2019",
         "4.37"
        ],
        [
         "2",
         "2020",
         "4.39"
        ],
        [
         "3",
         "2021",
         "4.42"
        ],
        [
         "4",
         "2022",
         "4.54"
        ],
        [
         "5",
         "2023",
         "4.73"
        ],
        [
         "6",
         "2024",
         "4.95"
        ],
        [
         "7",
         "2025",
         "5.07"
        ],
        [
         "8",
         "2026",
         "5.19"
        ]
       ],
       "shape": {
        "columns": 2,
        "rows": 9
       }
      },
      "text/html": [
       "<div>\n",
       "<style scoped>\n",
       "    .dataframe tbody tr th:only-of-type {\n",
       "        vertical-align: middle;\n",
       "    }\n",
       "\n",
       "    .dataframe tbody tr th {\n",
       "        vertical-align: top;\n",
       "    }\n",
       "\n",
       "    .dataframe thead th {\n",
       "        text-align: right;\n",
       "    }\n",
       "</style>\n",
       "<table border=\"1\" class=\"dataframe\">\n",
       "  <thead>\n",
       "    <tr style=\"text-align: right;\">\n",
       "      <th></th>\n",
       "      <th>year</th>\n",
       "      <th>Population_Millions</th>\n",
       "    </tr>\n",
       "  </thead>\n",
       "  <tbody>\n",
       "    <tr>\n",
       "      <th>0</th>\n",
       "      <td>2018</td>\n",
       "      <td>4.33</td>\n",
       "    </tr>\n",
       "    <tr>\n",
       "      <th>1</th>\n",
       "      <td>2019</td>\n",
       "      <td>4.37</td>\n",
       "    </tr>\n",
       "    <tr>\n",
       "      <th>2</th>\n",
       "      <td>2020</td>\n",
       "      <td>4.39</td>\n",
       "    </tr>\n",
       "    <tr>\n",
       "      <th>3</th>\n",
       "      <td>2021</td>\n",
       "      <td>4.42</td>\n",
       "    </tr>\n",
       "    <tr>\n",
       "      <th>4</th>\n",
       "      <td>2022</td>\n",
       "      <td>4.54</td>\n",
       "    </tr>\n",
       "    <tr>\n",
       "      <th>5</th>\n",
       "      <td>2023</td>\n",
       "      <td>4.73</td>\n",
       "    </tr>\n",
       "    <tr>\n",
       "      <th>6</th>\n",
       "      <td>2024</td>\n",
       "      <td>4.95</td>\n",
       "    </tr>\n",
       "    <tr>\n",
       "      <th>7</th>\n",
       "      <td>2025</td>\n",
       "      <td>5.07</td>\n",
       "    </tr>\n",
       "    <tr>\n",
       "      <th>8</th>\n",
       "      <td>2026</td>\n",
       "      <td>5.19</td>\n",
       "    </tr>\n",
       "  </tbody>\n",
       "</table>\n",
       "</div>"
      ],
      "text/plain": [
       "   year  Population_Millions\n",
       "0  2018                 4.33\n",
       "1  2019                 4.37\n",
       "2  2020                 4.39\n",
       "3  2021                 4.42\n",
       "4  2022                 4.54\n",
       "5  2023                 4.73\n",
       "6  2024                 4.95\n",
       "7  2025                 5.07\n",
       "8  2026                 5.19"
      ]
     },
     "execution_count": 9,
     "metadata": {},
     "output_type": "execute_result"
    }
   ],
   "source": [
    "######################### Population estimation from the pdf document ########################################\n",
    "years = list(range(2018, 2027))\n",
    "population_millions = [4.33, 4.37, 4.39, 4.42, 4.54, 4.73, 4.95, 5.07, 5.19]\n",
    "population_df = pd.DataFrame({\n",
    "    'year': years,\n",
    "    'Population_Millions': population_millions\n",
    "})\n",
    "population_df"
   ]
  },
  {
   "cell_type": "code",
   "execution_count": 10,
   "id": "776b184b",
   "metadata": {},
   "outputs": [
    {
     "data": {
      "application/vnd.microsoft.datawrangler.viewer.v0+json": {
       "columns": [
        {
         "name": "index",
         "rawType": "int64",
         "type": "integer"
        },
        {
         "name": "system_demand",
         "rawType": "int64",
         "type": "integer"
        },
        {
         "name": "timestamp",
         "rawType": "datetime64[ns, UTC]",
         "type": "unknown"
        }
       ],
       "ref": "ae794c8f-6898-4b2f-89b7-815a3f4a8308",
       "rows": [
        [
         "0",
         "10221",
         "2018-01-01 00:00:00+00:00"
        ],
        [
         "1",
         "10082",
         "2018-01-01 01:00:00+00:00"
        ],
        [
         "2",
         "9949",
         "2018-01-01 02:00:00+00:00"
        ],
        [
         "3",
         "9886",
         "2018-01-01 03:00:00+00:00"
        ],
        [
         "4",
         "9930",
         "2018-01-01 04:00:00+00:00"
        ],
        [
         "5",
         "9974",
         "2018-01-01 05:00:00+00:00"
        ],
        [
         "6",
         "10047",
         "2018-01-01 06:00:00+00:00"
        ],
        [
         "7",
         "10055",
         "2018-01-01 07:00:00+00:00"
        ],
        [
         "8",
         "10087",
         "2018-01-01 08:00:00+00:00"
        ],
        [
         "9",
         "10137",
         "2018-01-01 09:00:00+00:00"
        ],
        [
         "10",
         "10232",
         "2018-01-01 10:00:00+00:00"
        ],
        [
         "11",
         "10296",
         "2018-01-01 11:00:00+00:00"
        ],
        [
         "12",
         "10298",
         "2018-01-01 12:00:00+00:00"
        ],
        [
         "13",
         "10270",
         "2018-01-01 13:00:00+00:00"
        ],
        [
         "14",
         "10258",
         "2018-01-01 14:00:00+00:00"
        ],
        [
         "15",
         "10310",
         "2018-01-01 15:00:00+00:00"
        ],
        [
         "16",
         "10620",
         "2018-01-01 16:00:00+00:00"
        ],
        [
         "17",
         "10970",
         "2018-01-01 17:00:00+00:00"
        ],
        [
         "18",
         "10841",
         "2018-01-01 18:00:00+00:00"
        ],
        [
         "19",
         "10706",
         "2018-01-01 19:00:00+00:00"
        ],
        [
         "20",
         "10541",
         "2018-01-01 20:00:00+00:00"
        ],
        [
         "21",
         "10301",
         "2018-01-01 21:00:00+00:00"
        ],
        [
         "22",
         "10011",
         "2018-01-01 22:00:00+00:00"
        ],
        [
         "23",
         "9728",
         "2018-01-01 23:00:00+00:00"
        ],
        [
         "24",
         "9559",
         "2018-01-02 00:00:00+00:00"
        ],
        [
         "25",
         "9411",
         "2018-01-02 01:00:00+00:00"
        ],
        [
         "26",
         "9330",
         "2018-01-02 02:00:00+00:00"
        ],
        [
         "27",
         "9304",
         "2018-01-02 03:00:00+00:00"
        ],
        [
         "28",
         "9353",
         "2018-01-02 04:00:00+00:00"
        ],
        [
         "29",
         "9508",
         "2018-01-02 05:00:00+00:00"
        ],
        [
         "30",
         "9884",
         "2018-01-02 06:00:00+00:00"
        ],
        [
         "31",
         "10282",
         "2018-01-02 07:00:00+00:00"
        ],
        [
         "32",
         "10518",
         "2018-01-02 08:00:00+00:00"
        ],
        [
         "33",
         "10538",
         "2018-01-02 09:00:00+00:00"
        ],
        [
         "34",
         "10602",
         "2018-01-02 10:00:00+00:00"
        ],
        [
         "35",
         "10584",
         "2018-01-02 11:00:00+00:00"
        ],
        [
         "36",
         "10574",
         "2018-01-02 12:00:00+00:00"
        ],
        [
         "37",
         "10571",
         "2018-01-02 13:00:00+00:00"
        ],
        [
         "38",
         "10517",
         "2018-01-02 14:00:00+00:00"
        ],
        [
         "39",
         "10542",
         "2018-01-02 15:00:00+00:00"
        ],
        [
         "40",
         "10760",
         "2018-01-02 16:00:00+00:00"
        ],
        [
         "41",
         "11008",
         "2018-01-02 17:00:00+00:00"
        ],
        [
         "42",
         "10913",
         "2018-01-02 18:00:00+00:00"
        ],
        [
         "43",
         "10821",
         "2018-01-02 19:00:00+00:00"
        ],
        [
         "44",
         "10670",
         "2018-01-02 20:00:00+00:00"
        ],
        [
         "45",
         "10466",
         "2018-01-02 21:00:00+00:00"
        ],
        [
         "46",
         "10141",
         "2018-01-02 22:00:00+00:00"
        ],
        [
         "47",
         "9872",
         "2018-01-02 23:00:00+00:00"
        ],
        [
         "48",
         "9622",
         "2018-01-03 00:00:00+00:00"
        ],
        [
         "49",
         "9490",
         "2018-01-03 01:00:00+00:00"
        ]
       ],
       "shape": {
        "columns": 2,
        "rows": 64723
       }
      },
      "text/html": [
       "<div>\n",
       "<style scoped>\n",
       "    .dataframe tbody tr th:only-of-type {\n",
       "        vertical-align: middle;\n",
       "    }\n",
       "\n",
       "    .dataframe tbody tr th {\n",
       "        vertical-align: top;\n",
       "    }\n",
       "\n",
       "    .dataframe thead th {\n",
       "        text-align: right;\n",
       "    }\n",
       "</style>\n",
       "<table border=\"1\" class=\"dataframe\">\n",
       "  <thead>\n",
       "    <tr style=\"text-align: right;\">\n",
       "      <th></th>\n",
       "      <th>system_demand</th>\n",
       "      <th>timestamp</th>\n",
       "    </tr>\n",
       "  </thead>\n",
       "  <tbody>\n",
       "    <tr>\n",
       "      <th>0</th>\n",
       "      <td>10221</td>\n",
       "      <td>2018-01-01 00:00:00+00:00</td>\n",
       "    </tr>\n",
       "    <tr>\n",
       "      <th>1</th>\n",
       "      <td>10082</td>\n",
       "      <td>2018-01-01 01:00:00+00:00</td>\n",
       "    </tr>\n",
       "    <tr>\n",
       "      <th>2</th>\n",
       "      <td>9949</td>\n",
       "      <td>2018-01-01 02:00:00+00:00</td>\n",
       "    </tr>\n",
       "    <tr>\n",
       "      <th>3</th>\n",
       "      <td>9886</td>\n",
       "      <td>2018-01-01 03:00:00+00:00</td>\n",
       "    </tr>\n",
       "    <tr>\n",
       "      <th>4</th>\n",
       "      <td>9930</td>\n",
       "      <td>2018-01-01 04:00:00+00:00</td>\n",
       "    </tr>\n",
       "    <tr>\n",
       "      <th>...</th>\n",
       "      <td>...</td>\n",
       "      <td>...</td>\n",
       "    </tr>\n",
       "    <tr>\n",
       "      <th>64718</th>\n",
       "      <td>8647</td>\n",
       "      <td>2025-05-21 04:00:00+00:00</td>\n",
       "    </tr>\n",
       "    <tr>\n",
       "      <th>64719</th>\n",
       "      <td>8768</td>\n",
       "      <td>2025-05-21 05:00:00+00:00</td>\n",
       "    </tr>\n",
       "    <tr>\n",
       "      <th>64720</th>\n",
       "      <td>9105</td>\n",
       "      <td>2025-05-21 06:00:00+00:00</td>\n",
       "    </tr>\n",
       "    <tr>\n",
       "      <th>64721</th>\n",
       "      <td>9520</td>\n",
       "      <td>2025-05-21 07:00:00+00:00</td>\n",
       "    </tr>\n",
       "    <tr>\n",
       "      <th>64722</th>\n",
       "      <td>9694</td>\n",
       "      <td>2025-05-21 08:00:00+00:00</td>\n",
       "    </tr>\n",
       "  </tbody>\n",
       "</table>\n",
       "<p>64723 rows × 2 columns</p>\n",
       "</div>"
      ],
      "text/plain": [
       "       system_demand                 timestamp\n",
       "0              10221 2018-01-01 00:00:00+00:00\n",
       "1              10082 2018-01-01 01:00:00+00:00\n",
       "2               9949 2018-01-01 02:00:00+00:00\n",
       "3               9886 2018-01-01 03:00:00+00:00\n",
       "4               9930 2018-01-01 04:00:00+00:00\n",
       "...              ...                       ...\n",
       "64718           8647 2025-05-21 04:00:00+00:00\n",
       "64719           8768 2025-05-21 05:00:00+00:00\n",
       "64720           9105 2025-05-21 06:00:00+00:00\n",
       "64721           9520 2025-05-21 07:00:00+00:00\n",
       "64722           9694 2025-05-21 08:00:00+00:00\n",
       "\n",
       "[64723 rows x 2 columns]"
      ]
     },
     "execution_count": 10,
     "metadata": {},
     "output_type": "execute_result"
    }
   ],
   "source": [
    "demand_path=r\"..\\data\\historical_demand.csv\"\n",
    "demand=pd.read_csv(demand_path)\n",
    "demand['del_date'] = pd.to_datetime(demand['del_date'])\n",
    "demand['he'] = demand['he'].astype(int)\n",
    "demand['hour'] = demand['he'] - 1\n",
    "demand['timestamp'] = demand['del_date'] + pd.to_timedelta(demand['hour'], unit='h')\n",
    "demand.drop(['del_date', 'he', 'hour'], axis=1, inplace=True)\n",
    "demand"
   ]
  },
  {
   "cell_type": "code",
   "execution_count": 11,
   "id": "bdafd938",
   "metadata": {},
   "outputs": [
    {
     "data": {
      "text/plain": [
       "np.int64(0)"
      ]
     },
     "execution_count": 11,
     "metadata": {},
     "output_type": "execute_result"
    }
   ],
   "source": [
    "#look for duplicated data\n",
    "demand.duplicated().sum()"
   ]
  },
  {
   "cell_type": "code",
   "execution_count": 12,
   "id": "059075ea",
   "metadata": {},
   "outputs": [
    {
     "data": {
      "text/plain": [
       "[<matplotlib.lines.Line2D at 0x1f711227a90>]"
      ]
     },
     "execution_count": 12,
     "metadata": {},
     "output_type": "execute_result"
    },
    {
     "data": {
      "image/png": "[encoded data removed]",
      "text/plain": [
       "<Figure size 1500x700 with 1 Axes>"
      ]
     },
     "metadata": {},
     "output_type": "display_data"
    }
   ],
   "source": [
    "#Demand trend\n",
    "plt.figure(figsize=(15, 7))\n",
    "plt.plot(demand['timestamp'], demand['system_demand'], label='Demand')"
   ]
  },
  {
   "cell_type": "code",
   "execution_count": 13,
   "id": "2c2b1714",
   "metadata": {},
   "outputs": [
    {
     "data": {
      "application/vnd.microsoft.datawrangler.viewer.v0+json": {
       "columns": [
        {
         "name": "timestamp",
         "rawType": "datetime64[ns, UTC]",
         "type": "unknown"
        },
        {
         "name": "CYEG_temp",
         "rawType": "float64",
         "type": "float"
        },
        {
         "name": "CYYC_temp",
         "rawType": "float64",
         "type": "float"
        },
        {
         "name": "Avg_temp",
         "rawType": "float64",
         "type": "float"
        },
        {
         "name": "HDH",
         "rawType": "float64",
         "type": "float"
        },
        {
         "name": "CDH",
         "rawType": "float64",
         "type": "float"
        },
        {
         "name": "month",
         "rawType": "int32",
         "type": "integer"
        },
        {
         "name": "year",
         "rawType": "int32",
         "type": "integer"
        },
        {
         "name": "dayofyear",
         "rawType": "int32",
         "type": "integer"
        },
        {
         "name": "weekofyear",
         "rawType": "int64",
         "type": "integer"
        },
        {
         "name": "is_weekend",
         "rawType": "bool",
         "type": "boolean"
        },
        {
         "name": "hour",
         "rawType": "int32",
         "type": "integer"
        },
        {
         "name": "dayofweek",
         "rawType": "int32",
         "type": "integer"
        },
        {
         "name": "is_peak",
         "rawType": "bool",
         "type": "boolean"
        }
       ],
       "ref": "89f0f63b-9672-4e3a-a7eb-16e37856476d",
       "rows": [
        [
         "2018-01-01 00:00:00+00:00",
         "-28.1",
         "-28.1",
         "-28.1",
         "46.1",
         "0.0",
         "1",
         "2018",
         "1",
         "1",
         "False",
         "0",
         "0",
         "False"
        ],
        [
         "2018-01-01 01:00:00+00:00",
         "-28.3",
         "-28.6",
         "-28.450000000000003",
         "46.45",
         "0.0",
         "1",
         "2018",
         "1",
         "1",
         "False",
         "1",
         "0",
         "False"
        ],
        [
         "2018-01-01 02:00:00+00:00",
         "-28.7",
         "-29.1",
         "-28.9",
         "46.9",
         "0.0",
         "1",
         "2018",
         "1",
         "1",
         "False",
         "2",
         "0",
         "False"
        ],
        [
         "2018-01-01 03:00:00+00:00",
         "-28.5",
         "-30.0",
         "-29.25",
         "47.25",
         "0.0",
         "1",
         "2018",
         "1",
         "1",
         "False",
         "3",
         "0",
         "False"
        ],
        [
         "2018-01-01 04:00:00+00:00",
         "-28.3",
         "-27.6",
         "-27.950000000000003",
         "45.95",
         "0.0",
         "1",
         "2018",
         "1",
         "1",
         "False",
         "4",
         "0",
         "False"
        ]
       ],
       "shape": {
        "columns": 13,
        "rows": 5
       }
      },
      "text/html": [
       "<div>\n",
       "<style scoped>\n",
       "    .dataframe tbody tr th:only-of-type {\n",
       "        vertical-align: middle;\n",
       "    }\n",
       "\n",
       "    .dataframe tbody tr th {\n",
       "        vertical-align: top;\n",
       "    }\n",
       "\n",
       "    .dataframe thead th {\n",
       "        text-align: right;\n",
       "    }\n",
       "</style>\n",
       "<table border=\"1\" class=\"dataframe\">\n",
       "  <thead>\n",
       "    <tr style=\"text-align: right;\">\n",
       "      <th></th>\n",
       "      <th>CYEG_temp</th>\n",
       "      <th>CYYC_temp</th>\n",
       "      <th>Avg_temp</th>\n",
       "      <th>HDH</th>\n",
       "      <th>CDH</th>\n",
       "      <th>month</th>\n",
       "      <th>year</th>\n",
       "      <th>dayofyear</th>\n",
       "      <th>weekofyear</th>\n",
       "      <th>is_weekend</th>\n",
       "      <th>hour</th>\n",
       "      <th>dayofweek</th>\n",
       "      <th>is_peak</th>\n",
       "    </tr>\n",
       "    <tr>\n",
       "      <th>timestamp</th>\n",
       "      <th></th>\n",
       "      <th></th>\n",
       "      <th></th>\n",
       "      <th></th>\n",
       "      <th></th>\n",
       "      <th></th>\n",
       "      <th></th>\n",
       "      <th></th>\n",
       "      <th></th>\n",
       "      <th></th>\n",
       "      <th></th>\n",
       "      <th></th>\n",
       "      <th></th>\n",
       "    </tr>\n",
       "  </thead>\n",
       "  <tbody>\n",
       "    <tr>\n",
       "      <th>2018-01-01 00:00:00+00:00</th>\n",
       "      <td>-28.1</td>\n",
       "      <td>-28.1</td>\n",
       "      <td>-28.10</td>\n",
       "      <td>46.10</td>\n",
       "      <td>0.0</td>\n",
       "      <td>1</td>\n",
       "      <td>2018</td>\n",
       "      <td>1</td>\n",
       "      <td>1</td>\n",
       "      <td>False</td>\n",
       "      <td>0</td>\n",
       "      <td>0</td>\n",
       "      <td>False</td>\n",
       "    </tr>\n",
       "    <tr>\n",
       "      <th>2018-01-01 01:00:00+00:00</th>\n",
       "      <td>-28.3</td>\n",
       "      <td>-28.6</td>\n",
       "      <td>-28.45</td>\n",
       "      <td>46.45</td>\n",
       "      <td>0.0</td>\n",
       "      <td>1</td>\n",
       "      <td>2018</td>\n",
       "      <td>1</td>\n",
       "      <td>1</td>\n",
       "      <td>False</td>\n",
       "      <td>1</td>\n",
       "      <td>0</td>\n",
       "      <td>False</td>\n",
       "    </tr>\n",
       "    <tr>\n",
       "      <th>2018-01-01 02:00:00+00:00</th>\n",
       "      <td>-28.7</td>\n",
       "      <td>-29.1</td>\n",
       "      <td>-28.90</td>\n",
       "      <td>46.90</td>\n",
       "      <td>0.0</td>\n",
       "      <td>1</td>\n",
       "      <td>2018</td>\n",
       "      <td>1</td>\n",
       "      <td>1</td>\n",
       "      <td>False</td>\n",
       "      <td>2</td>\n",
       "      <td>0</td>\n",
       "      <td>False</td>\n",
       "    </tr>\n",
       "    <tr>\n",
       "      <th>2018-01-01 03:00:00+00:00</th>\n",
       "      <td>-28.5</td>\n",
       "      <td>-30.0</td>\n",
       "      <td>-29.25</td>\n",
       "      <td>47.25</td>\n",
       "      <td>0.0</td>\n",
       "      <td>1</td>\n",
       "      <td>2018</td>\n",
       "      <td>1</td>\n",
       "      <td>1</td>\n",
       "      <td>False</td>\n",
       "      <td>3</td>\n",
       "      <td>0</td>\n",
       "      <td>False</td>\n",
       "    </tr>\n",
       "    <tr>\n",
       "      <th>2018-01-01 04:00:00+00:00</th>\n",
       "      <td>-28.3</td>\n",
       "      <td>-27.6</td>\n",
       "      <td>-27.95</td>\n",
       "      <td>45.95</td>\n",
       "      <td>0.0</td>\n",
       "      <td>1</td>\n",
       "      <td>2018</td>\n",
       "      <td>1</td>\n",
       "      <td>1</td>\n",
       "      <td>False</td>\n",
       "      <td>4</td>\n",
       "      <td>0</td>\n",
       "      <td>False</td>\n",
       "    </tr>\n",
       "  </tbody>\n",
       "</table>\n",
       "</div>"
      ],
      "text/plain": [
       "                           CYEG_temp  CYYC_temp  Avg_temp    HDH  CDH  month  \\\n",
       "timestamp                                                                      \n",
       "2018-01-01 00:00:00+00:00      -28.1      -28.1    -28.10  46.10  0.0      1   \n",
       "2018-01-01 01:00:00+00:00      -28.3      -28.6    -28.45  46.45  0.0      1   \n",
       "2018-01-01 02:00:00+00:00      -28.7      -29.1    -28.90  46.90  0.0      1   \n",
       "2018-01-01 03:00:00+00:00      -28.5      -30.0    -29.25  47.25  0.0      1   \n",
       "2018-01-01 04:00:00+00:00      -28.3      -27.6    -27.95  45.95  0.0      1   \n",
       "\n",
       "                           year  dayofyear  weekofyear  is_weekend  hour  \\\n",
       "timestamp                                                                  \n",
       "2018-01-01 00:00:00+00:00  2018          1           1       False     0   \n",
       "2018-01-01 01:00:00+00:00  2018          1           1       False     1   \n",
       "2018-01-01 02:00:00+00:00  2018          1           1       False     2   \n",
       "2018-01-01 03:00:00+00:00  2018          1           1       False     3   \n",
       "2018-01-01 04:00:00+00:00  2018          1           1       False     4   \n",
       "\n",
       "                           dayofweek  is_peak  \n",
       "timestamp                                      \n",
       "2018-01-01 00:00:00+00:00          0    False  \n",
       "2018-01-01 01:00:00+00:00          0    False  \n",
       "2018-01-01 02:00:00+00:00          0    False  \n",
       "2018-01-01 03:00:00+00:00          0    False  \n",
       "2018-01-01 04:00:00+00:00          0    False  "
      ]
     },
     "execution_count": 13,
     "metadata": {},
     "output_type": "execute_result"
    }
   ],
   "source": [
    "#Add other date related features to temp_data\n",
    "temp_data['month'] = temp_data.index.month\n",
    "temp_data['year'] = temp_data.index.year\n",
    "temp_data['dayofyear'] = temp_data.index.dayofyear\n",
    "temp_data['weekofyear'] = temp_data.index.isocalendar().week.astype(int)\n",
    "temp_data['is_weekend'] = temp_data.index.dayofweek >= 5\n",
    "temp_data['hour'] = temp_data.index.hour\n",
    "temp_data['dayofweek'] = temp_data.index.dayofweek  # Monday=0, Sunday=6\n",
    "\n",
    "# Peak: Mon–Sat, 7:00–22:59\n",
    "temp_data['is_peak'] = temp_data.apply(lambda row: (row['dayofweek'] < 6) and (7 <= row['hour'] < 23), axis=1)\n",
    "temp_data.head()"
   ]
  },
  {
   "cell_type": "code",
   "execution_count": 14,
   "id": "024e4d25",
   "metadata": {},
   "outputs": [
    {
     "name": "stdout",
     "output_type": "stream",
     "text": [
      "\n",
      "Future timestamps for long-term forecast (first 5):\n"
     ]
    },
    {
     "data": {
      "text/plain": [
       "DatetimeIndex(['2025-05-21 08:00:00+00:00', '2025-05-21 09:00:00+00:00',\n",
       "               '2025-05-21 10:00:00+00:00', '2025-05-21 11:00:00+00:00',\n",
       "               '2025-05-21 12:00:00+00:00'],\n",
       "              dtype='datetime64[ns, UTC]', freq='h')"
      ]
     },
     "metadata": {},
     "output_type": "display_data"
    },
    {
     "data": {
      "application/vnd.microsoft.datawrangler.viewer.v0+json": {
       "columns": [
        {
         "name": "index",
         "rawType": "datetime64[ns, UTC]",
         "type": "unknown"
        }
       ],
       "ref": "802997dc-b3eb-4efa-9a08-fc8c0b4c048e",
       "rows": [
        [
         "2026-05-21 03:00:00+00:00"
        ],
        [
         "2026-05-21 04:00:00+00:00"
        ],
        [
         "2026-05-21 05:00:00+00:00"
        ],
        [
         "2026-05-21 06:00:00+00:00"
        ],
        [
         "2026-05-21 07:00:00+00:00"
        ]
       ],
       "shape": {
        "columns": 0,
        "rows": 5
       }
      },
      "text/html": [
       "<div>\n",
       "<style scoped>\n",
       "    .dataframe tbody tr th:only-of-type {\n",
       "        vertical-align: middle;\n",
       "    }\n",
       "\n",
       "    .dataframe tbody tr th {\n",
       "        vertical-align: top;\n",
       "    }\n",
       "\n",
       "    .dataframe thead th {\n",
       "        text-align: right;\n",
       "    }\n",
       "</style>\n",
       "<table border=\"1\" class=\"dataframe\">\n",
       "  <thead>\n",
       "    <tr style=\"text-align: right;\">\n",
       "      <th></th>\n",
       "    </tr>\n",
       "  </thead>\n",
       "  <tbody>\n",
       "    <tr>\n",
       "      <th>2026-05-21 03:00:00+00:00</th>\n",
       "    </tr>\n",
       "    <tr>\n",
       "      <th>2026-05-21 04:00:00+00:00</th>\n",
       "    </tr>\n",
       "    <tr>\n",
       "      <th>2026-05-21 05:00:00+00:00</th>\n",
       "    </tr>\n",
       "    <tr>\n",
       "      <th>2026-05-21 06:00:00+00:00</th>\n",
       "    </tr>\n",
       "    <tr>\n",
       "      <th>2026-05-21 07:00:00+00:00</th>\n",
       "    </tr>\n",
       "  </tbody>\n",
       "</table>\n",
       "</div>"
      ],
      "text/plain": [
       "Empty DataFrame\n",
       "Columns: []\n",
       "Index: [2026-05-21 03:00:00+00:00, 2026-05-21 04:00:00+00:00, 2026-05-21 05:00:00+00:00, 2026-05-21 06:00:00+00:00, 2026-05-21 07:00:00+00:00]"
      ]
     },
     "metadata": {},
     "output_type": "display_data"
    }
   ],
   "source": [
    "last_timestamp = temp_data.index.max()\n",
    "\n",
    "# Create timestamps for the next year (long-term)\n",
    "future_timestamps_long_term = pd.date_range(start=last_timestamp + pd.Timedelta(hours=1), periods=365 * 24, freq='h')\n",
    "future_data_long_term = pd.DataFrame(index=future_timestamps_long_term)\n",
    "print(\"\\nFuture timestamps for long-term forecast (first 5):\")\n",
    "display(future_timestamps_long_term[:5])\n",
    "\n",
    "display(future_data_long_term.tail())"
   ]
  },
  {
   "cell_type": "code",
   "execution_count": 15,
   "id": "38219e1e",
   "metadata": {},
   "outputs": [
    {
     "data": {
      "application/vnd.microsoft.datawrangler.viewer.v0+json": {
       "columns": [
        {
         "name": "index",
         "rawType": "datetime64[ns, UTC]",
         "type": "unknown"
        },
        {
         "name": "month",
         "rawType": "int32",
         "type": "integer"
        },
        {
         "name": "year",
         "rawType": "int32",
         "type": "integer"
        },
        {
         "name": "dayofyear",
         "rawType": "int32",
         "type": "integer"
        },
        {
         "name": "weekofyear",
         "rawType": "int64",
         "type": "integer"
        },
        {
         "name": "is_weekend",
         "rawType": "bool",
         "type": "boolean"
        },
        {
         "name": "hour",
         "rawType": "int32",
         "type": "integer"
        },
        {
         "name": "dayofweek",
         "rawType": "int32",
         "type": "integer"
        },
        {
         "name": "is_peak",
         "rawType": "bool",
         "type": "boolean"
        }
       ],
       "ref": "2f44f859-8c8f-4274-a3ed-6ed37fa3a15a",
       "rows": [
        [
         "2025-05-21 08:00:00+00:00",
         "5",
         "2025",
         "141",
         "21",
         "False",
         "8",
         "2",
         "True"
        ],
        [
         "2025-05-21 09:00:00+00:00",
         "5",
         "2025",
         "141",
         "21",
         "False",
         "9",
         "2",
         "True"
        ],
        [
         "2025-05-21 10:00:00+00:00",
         "5",
         "2025",
         "141",
         "21",
         "False",
         "10",
         "2",
         "True"
        ],
        [
         "2025-05-21 11:00:00+00:00",
         "5",
         "2025",
         "141",
         "21",
         "False",
         "11",
         "2",
         "True"
        ],
        [
         "2025-05-21 12:00:00+00:00",
         "5",
         "2025",
         "141",
         "21",
         "False",
         "12",
         "2",
         "True"
        ]
       ],
       "shape": {
        "columns": 8,
        "rows": 5
       }
      },
      "text/html": [
       "<div>\n",
       "<style scoped>\n",
       "    .dataframe tbody tr th:only-of-type {\n",
       "        vertical-align: middle;\n",
       "    }\n",
       "\n",
       "    .dataframe tbody tr th {\n",
       "        vertical-align: top;\n",
       "    }\n",
       "\n",
       "    .dataframe thead th {\n",
       "        text-align: right;\n",
       "    }\n",
       "</style>\n",
       "<table border=\"1\" class=\"dataframe\">\n",
       "  <thead>\n",
       "    <tr style=\"text-align: right;\">\n",
       "      <th></th>\n",
       "      <th>month</th>\n",
       "      <th>year</th>\n",
       "      <th>dayofyear</th>\n",
       "      <th>weekofyear</th>\n",
       "      <th>is_weekend</th>\n",
       "      <th>hour</th>\n",
       "      <th>dayofweek</th>\n",
       "      <th>is_peak</th>\n",
       "    </tr>\n",
       "  </thead>\n",
       "  <tbody>\n",
       "    <tr>\n",
       "      <th>2025-05-21 08:00:00+00:00</th>\n",
       "      <td>5</td>\n",
       "      <td>2025</td>\n",
       "      <td>141</td>\n",
       "      <td>21</td>\n",
       "      <td>False</td>\n",
       "      <td>8</td>\n",
       "      <td>2</td>\n",
       "      <td>True</td>\n",
       "    </tr>\n",
       "    <tr>\n",
       "      <th>2025-05-21 09:00:00+00:00</th>\n",
       "      <td>5</td>\n",
       "      <td>2025</td>\n",
       "      <td>141</td>\n",
       "      <td>21</td>\n",
       "      <td>False</td>\n",
       "      <td>9</td>\n",
       "      <td>2</td>\n",
       "      <td>True</td>\n",
       "    </tr>\n",
       "    <tr>\n",
       "      <th>2025-05-21 10:00:00+00:00</th>\n",
       "      <td>5</td>\n",
       "      <td>2025</td>\n",
       "      <td>141</td>\n",
       "      <td>21</td>\n",
       "      <td>False</td>\n",
       "      <td>10</td>\n",
       "      <td>2</td>\n",
       "      <td>True</td>\n",
       "    </tr>\n",
       "    <tr>\n",
       "      <th>2025-05-21 11:00:00+00:00</th>\n",
       "      <td>5</td>\n",
       "      <td>2025</td>\n",
       "      <td>141</td>\n",
       "      <td>21</td>\n",
       "      <td>False</td>\n",
       "      <td>11</td>\n",
       "      <td>2</td>\n",
       "      <td>True</td>\n",
       "    </tr>\n",
       "    <tr>\n",
       "      <th>2025-05-21 12:00:00+00:00</th>\n",
       "      <td>5</td>\n",
       "      <td>2025</td>\n",
       "      <td>141</td>\n",
       "      <td>21</td>\n",
       "      <td>False</td>\n",
       "      <td>12</td>\n",
       "      <td>2</td>\n",
       "      <td>True</td>\n",
       "    </tr>\n",
       "  </tbody>\n",
       "</table>\n",
       "</div>"
      ],
      "text/plain": [
       "                           month  year  dayofyear  weekofyear  is_weekend  \\\n",
       "2025-05-21 08:00:00+00:00      5  2025        141          21       False   \n",
       "2025-05-21 09:00:00+00:00      5  2025        141          21       False   \n",
       "2025-05-21 10:00:00+00:00      5  2025        141          21       False   \n",
       "2025-05-21 11:00:00+00:00      5  2025        141          21       False   \n",
       "2025-05-21 12:00:00+00:00      5  2025        141          21       False   \n",
       "\n",
       "                           hour  dayofweek  is_peak  \n",
       "2025-05-21 08:00:00+00:00     8          2     True  \n",
       "2025-05-21 09:00:00+00:00     9          2     True  \n",
       "2025-05-21 10:00:00+00:00    10          2     True  \n",
       "2025-05-21 11:00:00+00:00    11          2     True  \n",
       "2025-05-21 12:00:00+00:00    12          2     True  "
      ]
     },
     "execution_count": 15,
     "metadata": {},
     "output_type": "execute_result"
    }
   ],
   "source": [
    "#add date related features in future df\n",
    "future_data_long_term['month'] = future_data_long_term.index.month\n",
    "future_data_long_term['year'] = future_data_long_term.index.year\n",
    "future_data_long_term['dayofyear'] = future_data_long_term.index.dayofyear\n",
    "future_data_long_term['weekofyear'] = future_data_long_term.index.isocalendar().week.astype(int)\n",
    "future_data_long_term['is_weekend'] = future_data_long_term.index.dayofweek >= 5\n",
    "future_data_long_term['hour'] = future_data_long_term.index.hour\n",
    "future_data_long_term['dayofweek'] = future_data_long_term.index.dayofweek  # Monday=0, Sunday=6\n",
    "\n",
    "# Peak: Mon–Sat, 7:00–22:59\n",
    "future_data_long_term['is_peak'] = future_data_long_term.apply(lambda row: (row['dayofweek'] < 6) and (7 <= row['hour'] < 23), axis=1)\n",
    "future_data_long_term.head()"
   ]
  },
  {
   "cell_type": "code",
   "execution_count": 16,
   "id": "6eff7062",
   "metadata": {},
   "outputs": [
    {
     "name": "stderr",
     "output_type": "stream",
     "text": [
      "C:\\Users\\cb44a\\AppData\\Local\\Temp\\ipykernel_9008\\1900025903.py:5: SettingWithCopyWarning: \n",
      "A value is trying to be set on a copy of a slice from a DataFrame.\n",
      "Try using .loc[row_indexer,col_indexer] = value instead\n",
      "\n",
      "See the caveats in the documentation: https://pandas.pydata.org/pandas-docs/stable/user_guide/indexing.html#returning-a-view-versus-a-copy\n",
      "  avg_temp['hour'] = avg_temp.index.hour\n",
      "C:\\Users\\cb44a\\AppData\\Local\\Temp\\ipykernel_9008\\1900025903.py:6: SettingWithCopyWarning: \n",
      "A value is trying to be set on a copy of a slice from a DataFrame.\n",
      "Try using .loc[row_indexer,col_indexer] = value instead\n",
      "\n",
      "See the caveats in the documentation: https://pandas.pydata.org/pandas-docs/stable/user_guide/indexing.html#returning-a-view-versus-a-copy\n",
      "  avg_temp['dayofyear'] = avg_temp.index.dayofyear\n"
     ]
    },
    {
     "data": {
      "application/vnd.microsoft.datawrangler.viewer.v0+json": {
       "columns": [
        {
         "name": "timestamp",
         "rawType": "datetime64[ns, UTC]",
         "type": "unknown"
        },
        {
         "name": "month",
         "rawType": "int32",
         "type": "integer"
        },
        {
         "name": "year",
         "rawType": "int32",
         "type": "integer"
        },
        {
         "name": "dayofyear",
         "rawType": "int32",
         "type": "integer"
        },
        {
         "name": "weekofyear",
         "rawType": "int64",
         "type": "integer"
        },
        {
         "name": "is_weekend",
         "rawType": "bool",
         "type": "boolean"
        },
        {
         "name": "hour",
         "rawType": "int32",
         "type": "integer"
        },
        {
         "name": "dayofweek",
         "rawType": "int32",
         "type": "integer"
        },
        {
         "name": "is_peak",
         "rawType": "bool",
         "type": "boolean"
        },
        {
         "name": "Avg_temp",
         "rawType": "float64",
         "type": "float"
        },
        {
         "name": "HDH",
         "rawType": "float64",
         "type": "float"
        },
        {
         "name": "CDH",
         "rawType": "float64",
         "type": "float"
        }
       ],
       "ref": "9f29507d-7514-48dc-9c5d-766d2a17dd3f",
       "rows": [
        [
         "2025-05-21 08:00:00+00:00",
         "5",
         "2025",
         "141",
         "21",
         "False",
         "8",
         "2",
         "True",
         "10.178571428571429",
         "7.821428571428571",
         "0.0"
        ],
        [
         "2025-05-21 09:00:00+00:00",
         "5",
         "2025",
         "141",
         "21",
         "False",
         "9",
         "2",
         "True",
         "11.285714285714286",
         "6.7142857142857135",
         "0.0"
        ],
        [
         "2025-05-21 10:00:00+00:00",
         "5",
         "2025",
         "141",
         "21",
         "False",
         "10",
         "2",
         "True",
         "12.12857142857143",
         "5.87142857142857",
         "0.0"
        ],
        [
         "2025-05-21 11:00:00+00:00",
         "5",
         "2025",
         "141",
         "21",
         "False",
         "11",
         "2",
         "True",
         "12.75",
         "5.25",
         "0.0"
        ],
        [
         "2025-05-21 12:00:00+00:00",
         "5",
         "2025",
         "141",
         "21",
         "False",
         "12",
         "2",
         "True",
         "13.471428571428572",
         "4.5285714285714285",
         "0.0"
        ]
       ],
       "shape": {
        "columns": 11,
        "rows": 5
       }
      },
      "text/html": [
       "<div>\n",
       "<style scoped>\n",
       "    .dataframe tbody tr th:only-of-type {\n",
       "        vertical-align: middle;\n",
       "    }\n",
       "\n",
       "    .dataframe tbody tr th {\n",
       "        vertical-align: top;\n",
       "    }\n",
       "\n",
       "    .dataframe thead th {\n",
       "        text-align: right;\n",
       "    }\n",
       "</style>\n",
       "<table border=\"1\" class=\"dataframe\">\n",
       "  <thead>\n",
       "    <tr style=\"text-align: right;\">\n",
       "      <th></th>\n",
       "      <th>month</th>\n",
       "      <th>year</th>\n",
       "      <th>dayofyear</th>\n",
       "      <th>weekofyear</th>\n",
       "      <th>is_weekend</th>\n",
       "      <th>hour</th>\n",
       "      <th>dayofweek</th>\n",
       "      <th>is_peak</th>\n",
       "      <th>Avg_temp</th>\n",
       "      <th>HDH</th>\n",
       "      <th>CDH</th>\n",
       "    </tr>\n",
       "    <tr>\n",
       "      <th>timestamp</th>\n",
       "      <th></th>\n",
       "      <th></th>\n",
       "      <th></th>\n",
       "      <th></th>\n",
       "      <th></th>\n",
       "      <th></th>\n",
       "      <th></th>\n",
       "      <th></th>\n",
       "      <th></th>\n",
       "      <th></th>\n",
       "      <th></th>\n",
       "    </tr>\n",
       "  </thead>\n",
       "  <tbody>\n",
       "    <tr>\n",
       "      <th>2025-05-21 08:00:00+00:00</th>\n",
       "      <td>5</td>\n",
       "      <td>2025</td>\n",
       "      <td>141</td>\n",
       "      <td>21</td>\n",
       "      <td>False</td>\n",
       "      <td>8</td>\n",
       "      <td>2</td>\n",
       "      <td>True</td>\n",
       "      <td>10.178571</td>\n",
       "      <td>7.821429</td>\n",
       "      <td>0.0</td>\n",
       "    </tr>\n",
       "    <tr>\n",
       "      <th>2025-05-21 09:00:00+00:00</th>\n",
       "      <td>5</td>\n",
       "      <td>2025</td>\n",
       "      <td>141</td>\n",
       "      <td>21</td>\n",
       "      <td>False</td>\n",
       "      <td>9</td>\n",
       "      <td>2</td>\n",
       "      <td>True</td>\n",
       "      <td>11.285714</td>\n",
       "      <td>6.714286</td>\n",
       "      <td>0.0</td>\n",
       "    </tr>\n",
       "    <tr>\n",
       "      <th>2025-05-21 10:00:00+00:00</th>\n",
       "      <td>5</td>\n",
       "      <td>2025</td>\n",
       "      <td>141</td>\n",
       "      <td>21</td>\n",
       "      <td>False</td>\n",
       "      <td>10</td>\n",
       "      <td>2</td>\n",
       "      <td>True</td>\n",
       "      <td>12.128571</td>\n",
       "      <td>5.871429</td>\n",
       "      <td>0.0</td>\n",
       "    </tr>\n",
       "    <tr>\n",
       "      <th>2025-05-21 11:00:00+00:00</th>\n",
       "      <td>5</td>\n",
       "      <td>2025</td>\n",
       "      <td>141</td>\n",
       "      <td>21</td>\n",
       "      <td>False</td>\n",
       "      <td>11</td>\n",
       "      <td>2</td>\n",
       "      <td>True</td>\n",
       "      <td>12.750000</td>\n",
       "      <td>5.250000</td>\n",
       "      <td>0.0</td>\n",
       "    </tr>\n",
       "    <tr>\n",
       "      <th>2025-05-21 12:00:00+00:00</th>\n",
       "      <td>5</td>\n",
       "      <td>2025</td>\n",
       "      <td>141</td>\n",
       "      <td>21</td>\n",
       "      <td>False</td>\n",
       "      <td>12</td>\n",
       "      <td>2</td>\n",
       "      <td>True</td>\n",
       "      <td>13.471429</td>\n",
       "      <td>4.528571</td>\n",
       "      <td>0.0</td>\n",
       "    </tr>\n",
       "  </tbody>\n",
       "</table>\n",
       "</div>"
      ],
      "text/plain": [
       "                           month  year  dayofyear  weekofyear  is_weekend  \\\n",
       "timestamp                                                                   \n",
       "2025-05-21 08:00:00+00:00      5  2025        141          21       False   \n",
       "2025-05-21 09:00:00+00:00      5  2025        141          21       False   \n",
       "2025-05-21 10:00:00+00:00      5  2025        141          21       False   \n",
       "2025-05-21 11:00:00+00:00      5  2025        141          21       False   \n",
       "2025-05-21 12:00:00+00:00      5  2025        141          21       False   \n",
       "\n",
       "                           hour  dayofweek  is_peak   Avg_temp       HDH  CDH  \n",
       "timestamp                                                                      \n",
       "2025-05-21 08:00:00+00:00     8          2     True  10.178571  7.821429  0.0  \n",
       "2025-05-21 09:00:00+00:00     9          2     True  11.285714  6.714286  0.0  \n",
       "2025-05-21 10:00:00+00:00    10          2     True  12.128571  5.871429  0.0  \n",
       "2025-05-21 11:00:00+00:00    11          2     True  12.750000  5.250000  0.0  \n",
       "2025-05-21 12:00:00+00:00    12          2     True  13.471429  4.528571  0.0  "
      ]
     },
     "execution_count": 16,
     "metadata": {},
     "output_type": "execute_result"
    }
   ],
   "source": [
    "## Add Temperature related features in the future df\n",
    "# Select the 'Avg_temp' column\n",
    "avg_temp = temp_data[['Avg_temp']]\n",
    "# Extract hour of the day and day of the year from the index and create new columns\n",
    "avg_temp['hour'] = avg_temp.index.hour\n",
    "avg_temp['dayofyear'] = avg_temp.index.dayofyear\n",
    "\n",
    "# Group the data by 'dayofyear' and 'hour' and calculate the mean 'Avg_temp'\n",
    "average_hourly_yearly_temp = avg_temp.groupby(['dayofyear', 'hour'])['Avg_temp'].mean().reset_index()\n",
    "\n",
    "# Merge this average hourly yearly temperature data into the future_data_long_term DataFrame\n",
    "# Create temporary 'dayofyear' and 'hour' columns in the future dataframes, merge, and then drop the temporary columns\n",
    "future_data_long_term = future_data_long_term.reset_index().merge(average_hourly_yearly_temp, on=['dayofyear', 'hour'], how='left')\n",
    "future_data_long_term = future_data_long_term.rename(columns={'index': 'timestamp'}).set_index('timestamp')\n",
    "\n",
    "# If Avg_temp is below base_temperature, calculate the difference, otherwise 0\n",
    "future_data_long_term['HDH'] = np.maximum(0, base_temperature - future_data_long_term['Avg_temp'])\n",
    "\n",
    "# Calculate Cooling Degree Hours (CDH)\n",
    "# If Avg_temp is above base_temperature, calculate the difference, otherwise 0\n",
    "future_data_long_term['CDH'] = np.maximum(0, future_data_long_term['Avg_temp'] - base_temperature)\n",
    "\n",
    "future_data_long_term.head()"
   ]
  },
  {
   "cell_type": "code",
   "execution_count": 17,
   "id": "8185e0c4",
   "metadata": {},
   "outputs": [],
   "source": [
    "#add population data in historical data\n",
    "demand_feat_df=temp_data.reset_index().merge(population_df, on='year', how='left')"
   ]
  },
  {
   "cell_type": "code",
   "execution_count": 18,
   "id": "a8d413d3",
   "metadata": {},
   "outputs": [],
   "source": [
    "#add population data in future data\n",
    "future_data=future_data_long_term.reset_index().merge(population_df, on='year', how='left')"
   ]
  },
  {
   "cell_type": "code",
   "execution_count": 19,
   "id": "f9d8b2df",
   "metadata": {},
   "outputs": [
    {
     "name": "stdout",
     "output_type": "stream",
     "text": [
      "Collecting holidaysNote: you may need to restart the kernel to use updated packages.\n",
      "\n",
      "  Downloading holidays-0.77-py3-none-any.whl.metadata (46 kB)\n",
      "Requirement already satisfied: python-dateutil in c:\\users\\cb44a\\appdata\\local\\anaconda3\\envs\\energetic-env\\lib\\site-packages (from holidays) (2.9.0.post0)\n",
      "Requirement already satisfied: six>=1.5 in c:\\users\\cb44a\\appdata\\local\\anaconda3\\envs\\energetic-env\\lib\\site-packages (from python-dateutil->holidays) (1.17.0)\n",
      "Downloading holidays-0.77-py3-none-any.whl (1.2 MB)\n",
      "   ---------------------------------------- 0.0/1.2 MB ? eta -:--:--\n",
      "   ---------------------------------------- 1.2/1.2 MB 19.7 MB/s eta 0:00:00\n",
      "Installing collected packages: holidays\n",
      "Successfully installed holidays-0.77\n"
     ]
    }
   ],
   "source": [
    "pip install holidays"
   ]
  },
  {
   "cell_type": "code",
   "execution_count": 20,
   "id": "b54c9ce6",
   "metadata": {},
   "outputs": [
    {
     "data": {
      "application/vnd.microsoft.datawrangler.viewer.v0+json": {
       "columns": [
        {
         "name": "index",
         "rawType": "int64",
         "type": "integer"
        },
        {
         "name": "date",
         "rawType": "datetime64[ns]",
         "type": "datetime"
        },
        {
         "name": "holiday_name",
         "rawType": "object",
         "type": "string"
        }
       ],
       "ref": "30cece43-6299-4f61-ac36-7f50a913e498",
       "rows": [
        [
         "0",
         "2018-01-01 00:00:00",
         "New Year's Day"
        ],
        [
         "1",
         "2018-03-30 00:00:00",
         "Good Friday"
        ],
        [
         "2",
         "2018-07-01 00:00:00",
         "Canada Day"
        ],
        [
         "3",
         "2018-09-03 00:00:00",
         "Labour Day"
        ],
        [
         "4",
         "2018-12-25 00:00:00",
         "Christmas Day"
        ]
       ],
       "shape": {
        "columns": 2,
        "rows": 5
       }
      },
      "text/html": [
       "<div>\n",
       "<style scoped>\n",
       "    .dataframe tbody tr th:only-of-type {\n",
       "        vertical-align: middle;\n",
       "    }\n",
       "\n",
       "    .dataframe tbody tr th {\n",
       "        vertical-align: top;\n",
       "    }\n",
       "\n",
       "    .dataframe thead th {\n",
       "        text-align: right;\n",
       "    }\n",
       "</style>\n",
       "<table border=\"1\" class=\"dataframe\">\n",
       "  <thead>\n",
       "    <tr style=\"text-align: right;\">\n",
       "      <th></th>\n",
       "      <th>date</th>\n",
       "      <th>holiday_name</th>\n",
       "    </tr>\n",
       "  </thead>\n",
       "  <tbody>\n",
       "    <tr>\n",
       "      <th>0</th>\n",
       "      <td>2018-01-01</td>\n",
       "      <td>New Year's Day</td>\n",
       "    </tr>\n",
       "    <tr>\n",
       "      <th>1</th>\n",
       "      <td>2018-03-30</td>\n",
       "      <td>Good Friday</td>\n",
       "    </tr>\n",
       "    <tr>\n",
       "      <th>2</th>\n",
       "      <td>2018-07-01</td>\n",
       "      <td>Canada Day</td>\n",
       "    </tr>\n",
       "    <tr>\n",
       "      <th>3</th>\n",
       "      <td>2018-09-03</td>\n",
       "      <td>Labour Day</td>\n",
       "    </tr>\n",
       "    <tr>\n",
       "      <th>4</th>\n",
       "      <td>2018-12-25</td>\n",
       "      <td>Christmas Day</td>\n",
       "    </tr>\n",
       "  </tbody>\n",
       "</table>\n",
       "</div>"
      ],
      "text/plain": [
       "        date    holiday_name\n",
       "0 2018-01-01  New Year's Day\n",
       "1 2018-03-30     Good Friday\n",
       "2 2018-07-01      Canada Day\n",
       "3 2018-09-03      Labour Day\n",
       "4 2018-12-25   Christmas Day"
      ]
     },
     "execution_count": 20,
     "metadata": {},
     "output_type": "execute_result"
    }
   ],
   "source": [
    "import holidays\n",
    "# Get Alberta holidays from 2018 to 2026\n",
    "ab_holidays = holidays.CA(prov='AB', years=range(2018, 2027))\n",
    "\n",
    "holiday_df = pd.DataFrame(ab_holidays.items(), columns=['date', 'holiday_name'])\n",
    "holiday_df['date'] = pd.to_datetime(holiday_df['date'])\n",
    "holiday_df.head()"
   ]
  },
  {
   "cell_type": "code",
   "execution_count": 21,
   "id": "a846b60a",
   "metadata": {},
   "outputs": [],
   "source": [
    "#add holiday as feature in historical data\n",
    "demand_feat_df['is_holiday'] = demand_feat_df['timestamp'].dt.date.isin(holiday_df['date'].dt.date)"
   ]
  },
  {
   "cell_type": "code",
   "execution_count": 22,
   "id": "b586ecee",
   "metadata": {},
   "outputs": [],
   "source": [
    "#add holiday as feature in future data\n",
    "future_data['is_holiday'] = future_data['timestamp'].dt.date.isin(holiday_df['date'].dt.date)"
   ]
  },
  {
   "cell_type": "code",
   "execution_count": 23,
   "id": "f91ce7cb",
   "metadata": {},
   "outputs": [
    {
     "data": {
      "application/vnd.microsoft.datawrangler.viewer.v0+json": {
       "columns": [
        {
         "name": "index",
         "rawType": "int64",
         "type": "integer"
        },
        {
         "name": "timestamp",
         "rawType": "datetime64[ns, UTC]",
         "type": "unknown"
        },
        {
         "name": "CYEG_temp",
         "rawType": "float64",
         "type": "float"
        },
        {
         "name": "CYYC_temp",
         "rawType": "float64",
         "type": "float"
        },
        {
         "name": "Avg_temp",
         "rawType": "float64",
         "type": "float"
        },
        {
         "name": "HDH",
         "rawType": "float64",
         "type": "float"
        },
        {
         "name": "CDH",
         "rawType": "float64",
         "type": "float"
        },
        {
         "name": "month",
         "rawType": "int32",
         "type": "integer"
        },
        {
         "name": "year",
         "rawType": "int32",
         "type": "integer"
        },
        {
         "name": "dayofyear",
         "rawType": "int32",
         "type": "integer"
        },
        {
         "name": "weekofyear",
         "rawType": "int64",
         "type": "integer"
        },
        {
         "name": "is_weekend",
         "rawType": "bool",
         "type": "boolean"
        },
        {
         "name": "hour",
         "rawType": "int32",
         "type": "integer"
        },
        {
         "name": "dayofweek",
         "rawType": "int32",
         "type": "integer"
        },
        {
         "name": "is_peak",
         "rawType": "bool",
         "type": "boolean"
        },
        {
         "name": "Population_Millions",
         "rawType": "float64",
         "type": "float"
        },
        {
         "name": "is_holiday",
         "rawType": "bool",
         "type": "boolean"
        }
       ],
       "ref": "a931ea91-9106-4745-9695-f4d6b5acb375",
       "rows": [
        [
         "0",
         "2018-01-01 00:00:00+00:00",
         "-28.1",
         "-28.1",
         "-28.1",
         "46.1",
         "0.0",
         "1",
         "2018",
         "1",
         "1",
         "False",
         "0",
         "0",
         "False",
         "4.33",
         "True"
        ],
        [
         "1",
         "2018-01-01 01:00:00+00:00",
         "-28.3",
         "-28.6",
         "-28.450000000000003",
         "46.45",
         "0.0",
         "1",
         "2018",
         "1",
         "1",
         "False",
         "1",
         "0",
         "False",
         "4.33",
         "True"
        ],
        [
         "2",
         "2018-01-01 02:00:00+00:00",
         "-28.7",
         "-29.1",
         "-28.9",
         "46.9",
         "0.0",
         "1",
         "2018",
         "1",
         "1",
         "False",
         "2",
         "0",
         "False",
         "4.33",
         "True"
        ],
        [
         "3",
         "2018-01-01 03:00:00+00:00",
         "-28.5",
         "-30.0",
         "-29.25",
         "47.25",
         "0.0",
         "1",
         "2018",
         "1",
         "1",
         "False",
         "3",
         "0",
         "False",
         "4.33",
         "True"
        ],
        [
         "4",
         "2018-01-01 04:00:00+00:00",
         "-28.3",
         "-27.6",
         "-27.950000000000003",
         "45.95",
         "0.0",
         "1",
         "2018",
         "1",
         "1",
         "False",
         "4",
         "0",
         "False",
         "4.33",
         "True"
        ]
       ],
       "shape": {
        "columns": 16,
        "rows": 5
       }
      },
      "text/html": [
       "<div>\n",
       "<style scoped>\n",
       "    .dataframe tbody tr th:only-of-type {\n",
       "        vertical-align: middle;\n",
       "    }\n",
       "\n",
       "    .dataframe tbody tr th {\n",
       "        vertical-align: top;\n",
       "    }\n",
       "\n",
       "    .dataframe thead th {\n",
       "        text-align: right;\n",
       "    }\n",
       "</style>\n",
       "<table border=\"1\" class=\"dataframe\">\n",
       "  <thead>\n",
       "    <tr style=\"text-align: right;\">\n",
       "      <th></th>\n",
       "      <th>timestamp</th>\n",
       "      <th>CYEG_temp</th>\n",
       "      <th>CYYC_temp</th>\n",
       "      <th>Avg_temp</th>\n",
       "      <th>HDH</th>\n",
       "      <th>CDH</th>\n",
       "      <th>month</th>\n",
       "      <th>year</th>\n",
       "      <th>dayofyear</th>\n",
       "      <th>weekofyear</th>\n",
       "      <th>is_weekend</th>\n",
       "      <th>hour</th>\n",
       "      <th>dayofweek</th>\n",
       "      <th>is_peak</th>\n",
       "      <th>Population_Millions</th>\n",
       "      <th>is_holiday</th>\n",
       "    </tr>\n",
       "  </thead>\n",
       "  <tbody>\n",
       "    <tr>\n",
       "      <th>0</th>\n",
       "      <td>2018-01-01 00:00:00+00:00</td>\n",
       "      <td>-28.1</td>\n",
       "      <td>-28.1</td>\n",
       "      <td>-28.10</td>\n",
       "      <td>46.10</td>\n",
       "      <td>0.0</td>\n",
       "      <td>1</td>\n",
       "      <td>2018</td>\n",
       "      <td>1</td>\n",
       "      <td>1</td>\n",
       "      <td>False</td>\n",
       "      <td>0</td>\n",
       "      <td>0</td>\n",
       "      <td>False</td>\n",
       "      <td>4.33</td>\n",
       "      <td>True</td>\n",
       "    </tr>\n",
       "    <tr>\n",
       "      <th>1</th>\n",
       "      <td>2018-01-01 01:00:00+00:00</td>\n",
       "      <td>-28.3</td>\n",
       "      <td>-28.6</td>\n",
       "      <td>-28.45</td>\n",
       "      <td>46.45</td>\n",
       "      <td>0.0</td>\n",
       "      <td>1</td>\n",
       "      <td>2018</td>\n",
       "      <td>1</td>\n",
       "      <td>1</td>\n",
       "      <td>False</td>\n",
       "      <td>1</td>\n",
       "      <td>0</td>\n",
       "      <td>False</td>\n",
       "      <td>4.33</td>\n",
       "      <td>True</td>\n",
       "    </tr>\n",
       "    <tr>\n",
       "      <th>2</th>\n",
       "      <td>2018-01-01 02:00:00+00:00</td>\n",
       "      <td>-28.7</td>\n",
       "      <td>-29.1</td>\n",
       "      <td>-28.90</td>\n",
       "      <td>46.90</td>\n",
       "      <td>0.0</td>\n",
       "      <td>1</td>\n",
       "      <td>2018</td>\n",
       "      <td>1</td>\n",
       "      <td>1</td>\n",
       "      <td>False</td>\n",
       "      <td>2</td>\n",
       "      <td>0</td>\n",
       "      <td>False</td>\n",
       "      <td>4.33</td>\n",
       "      <td>True</td>\n",
       "    </tr>\n",
       "    <tr>\n",
       "      <th>3</th>\n",
       "      <td>2018-01-01 03:00:00+00:00</td>\n",
       "      <td>-28.5</td>\n",
       "      <td>-30.0</td>\n",
       "      <td>-29.25</td>\n",
       "      <td>47.25</td>\n",
       "      <td>0.0</td>\n",
       "      <td>1</td>\n",
       "      <td>2018</td>\n",
       "      <td>1</td>\n",
       "      <td>1</td>\n",
       "      <td>False</td>\n",
       "      <td>3</td>\n",
       "      <td>0</td>\n",
       "      <td>False</td>\n",
       "      <td>4.33</td>\n",
       "      <td>True</td>\n",
       "    </tr>\n",
       "    <tr>\n",
       "      <th>4</th>\n",
       "      <td>2018-01-01 04:00:00+00:00</td>\n",
       "      <td>-28.3</td>\n",
       "      <td>-27.6</td>\n",
       "      <td>-27.95</td>\n",
       "      <td>45.95</td>\n",
       "      <td>0.0</td>\n",
       "      <td>1</td>\n",
       "      <td>2018</td>\n",
       "      <td>1</td>\n",
       "      <td>1</td>\n",
       "      <td>False</td>\n",
       "      <td>4</td>\n",
       "      <td>0</td>\n",
       "      <td>False</td>\n",
       "      <td>4.33</td>\n",
       "      <td>True</td>\n",
       "    </tr>\n",
       "  </tbody>\n",
       "</table>\n",
       "</div>"
      ],
      "text/plain": [
       "                  timestamp  CYEG_temp  CYYC_temp  Avg_temp    HDH  CDH  \\\n",
       "0 2018-01-01 00:00:00+00:00      -28.1      -28.1    -28.10  46.10  0.0   \n",
       "1 2018-01-01 01:00:00+00:00      -28.3      -28.6    -28.45  46.45  0.0   \n",
       "2 2018-01-01 02:00:00+00:00      -28.7      -29.1    -28.90  46.90  0.0   \n",
       "3 2018-01-01 03:00:00+00:00      -28.5      -30.0    -29.25  47.25  0.0   \n",
       "4 2018-01-01 04:00:00+00:00      -28.3      -27.6    -27.95  45.95  0.0   \n",
       "\n",
       "   month  year  dayofyear  weekofyear  is_weekend  hour  dayofweek  is_peak  \\\n",
       "0      1  2018          1           1       False     0          0    False   \n",
       "1      1  2018          1           1       False     1          0    False   \n",
       "2      1  2018          1           1       False     2          0    False   \n",
       "3      1  2018          1           1       False     3          0    False   \n",
       "4      1  2018          1           1       False     4          0    False   \n",
       "\n",
       "   Population_Millions  is_holiday  \n",
       "0                 4.33        True  \n",
       "1                 4.33        True  \n",
       "2                 4.33        True  \n",
       "3                 4.33        True  \n",
       "4                 4.33        True  "
      ]
     },
     "metadata": {},
     "output_type": "display_data"
    },
    {
     "data": {
      "application/vnd.microsoft.datawrangler.viewer.v0+json": {
       "columns": [
        {
         "name": "index",
         "rawType": "int64",
         "type": "integer"
        },
        {
         "name": "timestamp",
         "rawType": "datetime64[ns, UTC]",
         "type": "unknown"
        },
        {
         "name": "month",
         "rawType": "int32",
         "type": "integer"
        },
        {
         "name": "year",
         "rawType": "int32",
         "type": "integer"
        },
        {
         "name": "dayofyear",
         "rawType": "int32",
         "type": "integer"
        },
        {
         "name": "weekofyear",
         "rawType": "int64",
         "type": "integer"
        },
        {
         "name": "is_weekend",
         "rawType": "bool",
         "type": "boolean"
        },
        {
         "name": "hour",
         "rawType": "int32",
         "type": "integer"
        },
        {
         "name": "dayofweek",
         "rawType": "int32",
         "type": "integer"
        },
        {
         "name": "is_peak",
         "rawType": "bool",
         "type": "boolean"
        },
        {
         "name": "Avg_temp",
         "rawType": "float64",
         "type": "float"
        },
        {
         "name": "HDH",
         "rawType": "float64",
         "type": "float"
        },
        {
         "name": "CDH",
         "rawType": "float64",
         "type": "float"
        },
        {
         "name": "Population_Millions",
         "rawType": "float64",
         "type": "float"
        },
        {
         "name": "is_holiday",
         "rawType": "bool",
         "type": "boolean"
        }
       ],
       "ref": "3fa26f3e-59f1-491d-acbe-c826ccd68555",
       "rows": [
        [
         "0",
         "2025-05-21 08:00:00+00:00",
         "5",
         "2025",
         "141",
         "21",
         "False",
         "8",
         "2",
         "True",
         "10.178571428571429",
         "7.821428571428571",
         "0.0",
         "5.07",
         "False"
        ],
        [
         "1",
         "2025-05-21 09:00:00+00:00",
         "5",
         "2025",
         "141",
         "21",
         "False",
         "9",
         "2",
         "True",
         "11.285714285714286",
         "6.7142857142857135",
         "0.0",
         "5.07",
         "False"
        ],
        [
         "2",
         "2025-05-21 10:00:00+00:00",
         "5",
         "2025",
         "141",
         "21",
         "False",
         "10",
         "2",
         "True",
         "12.12857142857143",
         "5.87142857142857",
         "0.0",
         "5.07",
         "False"
        ],
        [
         "3",
         "2025-05-21 11:00:00+00:00",
         "5",
         "2025",
         "141",
         "21",
         "False",
         "11",
         "2",
         "True",
         "12.75",
         "5.25",
         "0.0",
         "5.07",
         "False"
        ],
        [
         "4",
         "2025-05-21 12:00:00+00:00",
         "5",
         "2025",
         "141",
         "21",
         "False",
         "12",
         "2",
         "True",
         "13.471428571428572",
         "4.5285714285714285",
         "0.0",
         "5.07",
         "False"
        ]
       ],
       "shape": {
        "columns": 14,
        "rows": 5
       }
      },
      "text/html": [
       "<div>\n",
       "<style scoped>\n",
       "    .dataframe tbody tr th:only-of-type {\n",
       "        vertical-align: middle;\n",
       "    }\n",
       "\n",
       "    .dataframe tbody tr th {\n",
       "        vertical-align: top;\n",
       "    }\n",
       "\n",
       "    .dataframe thead th {\n",
       "        text-align: right;\n",
       "    }\n",
       "</style>\n",
       "<table border=\"1\" class=\"dataframe\">\n",
       "  <thead>\n",
       "    <tr style=\"text-align: right;\">\n",
       "      <th></th>\n",
       "      <th>timestamp</th>\n",
       "      <th>month</th>\n",
       "      <th>year</th>\n",
       "      <th>dayofyear</th>\n",
       "      <th>weekofyear</th>\n",
       "      <th>is_weekend</th>\n",
       "      <th>hour</th>\n",
       "      <th>dayofweek</th>\n",
       "      <th>is_peak</th>\n",
       "      <th>Avg_temp</th>\n",
       "      <th>HDH</th>\n",
       "      <th>CDH</th>\n",
       "      <th>Population_Millions</th>\n",
       "      <th>is_holiday</th>\n",
       "    </tr>\n",
       "  </thead>\n",
       "  <tbody>\n",
       "    <tr>\n",
       "      <th>0</th>\n",
       "      <td>2025-05-21 08:00:00+00:00</td>\n",
       "      <td>5</td>\n",
       "      <td>2025</td>\n",
       "      <td>141</td>\n",
       "      <td>21</td>\n",
       "      <td>False</td>\n",
       "      <td>8</td>\n",
       "      <td>2</td>\n",
       "      <td>True</td>\n",
       "      <td>10.178571</td>\n",
       "      <td>7.821429</td>\n",
       "      <td>0.0</td>\n",
       "      <td>5.07</td>\n",
       "      <td>False</td>\n",
       "    </tr>\n",
       "    <tr>\n",
       "      <th>1</th>\n",
       "      <td>2025-05-21 09:00:00+00:00</td>\n",
       "      <td>5</td>\n",
       "      <td>2025</td>\n",
       "      <td>141</td>\n",
       "      <td>21</td>\n",
       "      <td>False</td>\n",
       "      <td>9</td>\n",
       "      <td>2</td>\n",
       "      <td>True</td>\n",
       "      <td>11.285714</td>\n",
       "      <td>6.714286</td>\n",
       "      <td>0.0</td>\n",
       "      <td>5.07</td>\n",
       "      <td>False</td>\n",
       "    </tr>\n",
       "    <tr>\n",
       "      <th>2</th>\n",
       "      <td>2025-05-21 10:00:00+00:00</td>\n",
       "      <td>5</td>\n",
       "      <td>2025</td>\n",
       "      <td>141</td>\n",
       "      <td>21</td>\n",
       "      <td>False</td>\n",
       "      <td>10</td>\n",
       "      <td>2</td>\n",
       "      <td>True</td>\n",
       "      <td>12.128571</td>\n",
       "      <td>5.871429</td>\n",
       "      <td>0.0</td>\n",
       "      <td>5.07</td>\n",
       "      <td>False</td>\n",
       "    </tr>\n",
       "    <tr>\n",
       "      <th>3</th>\n",
       "      <td>2025-05-21 11:00:00+00:00</td>\n",
       "      <td>5</td>\n",
       "      <td>2025</td>\n",
       "      <td>141</td>\n",
       "      <td>21</td>\n",
       "      <td>False</td>\n",
       "      <td>11</td>\n",
       "      <td>2</td>\n",
       "      <td>True</td>\n",
       "      <td>12.750000</td>\n",
       "      <td>5.250000</td>\n",
       "      <td>0.0</td>\n",
       "      <td>5.07</td>\n",
       "      <td>False</td>\n",
       "    </tr>\n",
       "    <tr>\n",
       "      <th>4</th>\n",
       "      <td>2025-05-21 12:00:00+00:00</td>\n",
       "      <td>5</td>\n",
       "      <td>2025</td>\n",
       "      <td>141</td>\n",
       "      <td>21</td>\n",
       "      <td>False</td>\n",
       "      <td>12</td>\n",
       "      <td>2</td>\n",
       "      <td>True</td>\n",
       "      <td>13.471429</td>\n",
       "      <td>4.528571</td>\n",
       "      <td>0.0</td>\n",
       "      <td>5.07</td>\n",
       "      <td>False</td>\n",
       "    </tr>\n",
       "  </tbody>\n",
       "</table>\n",
       "</div>"
      ],
      "text/plain": [
       "                  timestamp  month  year  dayofyear  weekofyear  is_weekend  \\\n",
       "0 2025-05-21 08:00:00+00:00      5  2025        141          21       False   \n",
       "1 2025-05-21 09:00:00+00:00      5  2025        141          21       False   \n",
       "2 2025-05-21 10:00:00+00:00      5  2025        141          21       False   \n",
       "3 2025-05-21 11:00:00+00:00      5  2025        141          21       False   \n",
       "4 2025-05-21 12:00:00+00:00      5  2025        141          21       False   \n",
       "\n",
       "   hour  dayofweek  is_peak   Avg_temp       HDH  CDH  Population_Millions  \\\n",
       "0     8          2     True  10.178571  7.821429  0.0                 5.07   \n",
       "1     9          2     True  11.285714  6.714286  0.0                 5.07   \n",
       "2    10          2     True  12.128571  5.871429  0.0                 5.07   \n",
       "3    11          2     True  12.750000  5.250000  0.0                 5.07   \n",
       "4    12          2     True  13.471429  4.528571  0.0                 5.07   \n",
       "\n",
       "   is_holiday  \n",
       "0       False  \n",
       "1       False  \n",
       "2       False  \n",
       "3       False  \n",
       "4       False  "
      ]
     },
     "metadata": {},
     "output_type": "display_data"
    }
   ],
   "source": [
    "#quick glimpse of historical data and future data\n",
    "display(demand_feat_df.head())\n",
    "display(future_data.head())"
   ]
  },
  {
   "cell_type": "code",
   "execution_count": 24,
   "id": "11892da0",
   "metadata": {},
   "outputs": [],
   "source": [
    "#no need of city based temp since they can introduce colinearity\n",
    "demand_feat_df.drop(['CYEG_temp', 'CYYC_temp'], axis=1, inplace=True)"
   ]
  },
  {
   "cell_type": "code",
   "execution_count": 34,
   "id": "2e92d60b",
   "metadata": {},
   "outputs": [
    {
     "data": {
      "application/vnd.microsoft.datawrangler.viewer.v0+json": {
       "columns": [
        {
         "name": "index",
         "rawType": "int64",
         "type": "integer"
        },
        {
         "name": "timestamp",
         "rawType": "datetime64[ns, UTC]",
         "type": "unknown"
        },
        {
         "name": "Avg_temp",
         "rawType": "float64",
         "type": "float"
        },
        {
         "name": "HDH",
         "rawType": "float64",
         "type": "float"
        },
        {
         "name": "CDH",
         "rawType": "float64",
         "type": "float"
        },
        {
         "name": "month",
         "rawType": "int32",
         "type": "integer"
        },
        {
         "name": "year",
         "rawType": "int32",
         "type": "integer"
        },
        {
         "name": "dayofyear",
         "rawType": "int32",
         "type": "integer"
        },
        {
         "name": "weekofyear",
         "rawType": "int64",
         "type": "integer"
        },
        {
         "name": "is_weekend",
         "rawType": "bool",
         "type": "boolean"
        },
        {
         "name": "hour",
         "rawType": "int32",
         "type": "integer"
        },
        {
         "name": "dayofweek",
         "rawType": "int32",
         "type": "integer"
        },
        {
         "name": "is_peak",
         "rawType": "bool",
         "type": "boolean"
        },
        {
         "name": "Population_Millions",
         "rawType": "float64",
         "type": "float"
        },
        {
         "name": "is_holiday",
         "rawType": "bool",
         "type": "boolean"
        },
        {
         "name": "system_demand",
         "rawType": "float64",
         "type": "float"
        }
       ],
       "ref": "0e36adc9-e32b-4e5a-81e6-d1c93e5305b7",
       "rows": [
        [
         "0",
         "2018-01-01 00:00:00+00:00",
         "-28.1",
         "46.1",
         "0.0",
         "1",
         "2018",
         "1",
         "1",
         "False",
         "0",
         "0",
         "False",
         "4.33",
         "True",
         "10221.0"
        ],
        [
         "1",
         "2018-01-01 01:00:00+00:00",
         "-28.450000000000003",
         "46.45",
         "0.0",
         "1",
         "2018",
         "1",
         "1",
         "False",
         "1",
         "0",
         "False",
         "4.33",
         "True",
         "10082.0"
        ],
        [
         "2",
         "2018-01-01 02:00:00+00:00",
         "-28.9",
         "46.9",
         "0.0",
         "1",
         "2018",
         "1",
         "1",
         "False",
         "2",
         "0",
         "False",
         "4.33",
         "True",
         "9949.0"
        ],
        [
         "3",
         "2018-01-01 03:00:00+00:00",
         "-29.25",
         "47.25",
         "0.0",
         "1",
         "2018",
         "1",
         "1",
         "False",
         "3",
         "0",
         "False",
         "4.33",
         "True",
         "9886.0"
        ],
        [
         "4",
         "2018-01-01 04:00:00+00:00",
         "-27.950000000000003",
         "45.95",
         "0.0",
         "1",
         "2018",
         "1",
         "1",
         "False",
         "4",
         "0",
         "False",
         "4.33",
         "True",
         "9930.0"
        ]
       ],
       "shape": {
        "columns": 15,
        "rows": 5
       }
      },
      "text/html": [
       "<div>\n",
       "<style scoped>\n",
       "    .dataframe tbody tr th:only-of-type {\n",
       "        vertical-align: middle;\n",
       "    }\n",
       "\n",
       "    .dataframe tbody tr th {\n",
       "        vertical-align: top;\n",
       "    }\n",
       "\n",
       "    .dataframe thead th {\n",
       "        text-align: right;\n",
       "    }\n",
       "</style>\n",
       "<table border=\"1\" class=\"dataframe\">\n",
       "  <thead>\n",
       "    <tr style=\"text-align: right;\">\n",
       "      <th></th>\n",
       "      <th>timestamp</th>\n",
       "      <th>Avg_temp</th>\n",
       "      <th>HDH</th>\n",
       "      <th>CDH</th>\n",
       "      <th>month</th>\n",
       "      <th>year</th>\n",
       "      <th>dayofyear</th>\n",
       "      <th>weekofyear</th>\n",
       "      <th>is_weekend</th>\n",
       "      <th>hour</th>\n",
       "      <th>dayofweek</th>\n",
       "      <th>is_peak</th>\n",
       "      <th>Population_Millions</th>\n",
       "      <th>is_holiday</th>\n",
       "      <th>system_demand</th>\n",
       "    </tr>\n",
       "  </thead>\n",
       "  <tbody>\n",
       "    <tr>\n",
       "      <th>0</th>\n",
       "      <td>2018-01-01 00:00:00+00:00</td>\n",
       "      <td>-28.10</td>\n",
       "      <td>46.10</td>\n",
       "      <td>0.0</td>\n",
       "      <td>1</td>\n",
       "      <td>2018</td>\n",
       "      <td>1</td>\n",
       "      <td>1</td>\n",
       "      <td>False</td>\n",
       "      <td>0</td>\n",
       "      <td>0</td>\n",
       "      <td>False</td>\n",
       "      <td>4.33</td>\n",
       "      <td>True</td>\n",
       "      <td>10221.0</td>\n",
       "    </tr>\n",
       "    <tr>\n",
       "      <th>1</th>\n",
       "      <td>2018-01-01 01:00:00+00:00</td>\n",
       "      <td>-28.45</td>\n",
       "      <td>46.45</td>\n",
       "      <td>0.0</td>\n",
       "      <td>1</td>\n",
       "      <td>2018</td>\n",
       "      <td>1</td>\n",
       "      <td>1</td>\n",
       "      <td>False</td>\n",
       "      <td>1</td>\n",
       "      <td>0</td>\n",
       "      <td>False</td>\n",
       "      <td>4.33</td>\n",
       "      <td>True</td>\n",
       "      <td>10082.0</td>\n",
       "    </tr>\n",
       "    <tr>\n",
       "      <th>2</th>\n",
       "      <td>2018-01-01 02:00:00+00:00</td>\n",
       "      <td>-28.90</td>\n",
       "      <td>46.90</td>\n",
       "      <td>0.0</td>\n",
       "      <td>1</td>\n",
       "      <td>2018</td>\n",
       "      <td>1</td>\n",
       "      <td>1</td>\n",
       "      <td>False</td>\n",
       "      <td>2</td>\n",
       "      <td>0</td>\n",
       "      <td>False</td>\n",
       "      <td>4.33</td>\n",
       "      <td>True</td>\n",
       "      <td>9949.0</td>\n",
       "    </tr>\n",
       "    <tr>\n",
       "      <th>3</th>\n",
       "      <td>2018-01-01 03:00:00+00:00</td>\n",
       "      <td>-29.25</td>\n",
       "      <td>47.25</td>\n",
       "      <td>0.0</td>\n",
       "      <td>1</td>\n",
       "      <td>2018</td>\n",
       "      <td>1</td>\n",
       "      <td>1</td>\n",
       "      <td>False</td>\n",
       "      <td>3</td>\n",
       "      <td>0</td>\n",
       "      <td>False</td>\n",
       "      <td>4.33</td>\n",
       "      <td>True</td>\n",
       "      <td>9886.0</td>\n",
       "    </tr>\n",
       "    <tr>\n",
       "      <th>4</th>\n",
       "      <td>2018-01-01 04:00:00+00:00</td>\n",
       "      <td>-27.95</td>\n",
       "      <td>45.95</td>\n",
       "      <td>0.0</td>\n",
       "      <td>1</td>\n",
       "      <td>2018</td>\n",
       "      <td>1</td>\n",
       "      <td>1</td>\n",
       "      <td>False</td>\n",
       "      <td>4</td>\n",
       "      <td>0</td>\n",
       "      <td>False</td>\n",
       "      <td>4.33</td>\n",
       "      <td>True</td>\n",
       "      <td>9930.0</td>\n",
       "    </tr>\n",
       "  </tbody>\n",
       "</table>\n",
       "</div>"
      ],
      "text/plain": [
       "                  timestamp  Avg_temp    HDH  CDH  month  year  dayofyear  \\\n",
       "0 2018-01-01 00:00:00+00:00    -28.10  46.10  0.0      1  2018          1   \n",
       "1 2018-01-01 01:00:00+00:00    -28.45  46.45  0.0      1  2018          1   \n",
       "2 2018-01-01 02:00:00+00:00    -28.90  46.90  0.0      1  2018          1   \n",
       "3 2018-01-01 03:00:00+00:00    -29.25  47.25  0.0      1  2018          1   \n",
       "4 2018-01-01 04:00:00+00:00    -27.95  45.95  0.0      1  2018          1   \n",
       "\n",
       "   weekofyear  is_weekend  hour  dayofweek  is_peak  Population_Millions  \\\n",
       "0           1       False     0          0    False                 4.33   \n",
       "1           1       False     1          0    False                 4.33   \n",
       "2           1       False     2          0    False                 4.33   \n",
       "3           1       False     3          0    False                 4.33   \n",
       "4           1       False     4          0    False                 4.33   \n",
       "\n",
       "   is_holiday  system_demand  \n",
       "0        True        10221.0  \n",
       "1        True        10082.0  \n",
       "2        True         9949.0  \n",
       "3        True         9886.0  \n",
       "4        True         9930.0  "
      ]
     },
     "execution_count": 34,
     "metadata": {},
     "output_type": "execute_result"
    }
   ],
   "source": [
    "demand_df = pd.merge(demand_feat_df, demand, on='timestamp', how='left')\n",
    "demand_df.head()"
   ]
  },
  {
   "cell_type": "code",
   "execution_count": 35,
   "id": "79251f88",
   "metadata": {},
   "outputs": [
    {
     "data": {
      "application/vnd.microsoft.datawrangler.viewer.v0+json": {
       "columns": [
        {
         "name": "index",
         "rawType": "object",
         "type": "string"
        },
        {
         "name": "0",
         "rawType": "int64",
         "type": "integer"
        }
       ],
       "ref": "0340e322-2bff-431b-9d3f-7562b0ee8fa5",
       "rows": [
        [
         "timestamp",
         "0"
        ],
        [
         "Avg_temp",
         "0"
        ],
        [
         "HDH",
         "0"
        ],
        [
         "CDH",
         "0"
        ],
        [
         "month",
         "0"
        ],
        [
         "year",
         "0"
        ],
        [
         "dayofyear",
         "0"
        ],
        [
         "weekofyear",
         "0"
        ],
        [
         "is_weekend",
         "0"
        ],
        [
         "hour",
         "0"
        ],
        [
         "dayofweek",
         "0"
        ],
        [
         "is_peak",
         "0"
        ],
        [
         "Population_Millions",
         "0"
        ],
        [
         "is_holiday",
         "0"
        ],
        [
         "system_demand",
         "21"
        ]
       ],
       "shape": {
        "columns": 1,
        "rows": 15
       }
      },
      "text/plain": [
       "timestamp               0\n",
       "Avg_temp                0\n",
       "HDH                     0\n",
       "CDH                     0\n",
       "month                   0\n",
       "year                    0\n",
       "dayofyear               0\n",
       "weekofyear              0\n",
       "is_weekend              0\n",
       "hour                    0\n",
       "dayofweek               0\n",
       "is_peak                 0\n",
       "Population_Millions     0\n",
       "is_holiday              0\n",
       "system_demand          21\n",
       "dtype: int64"
      ]
     },
     "execution_count": 35,
     "metadata": {},
     "output_type": "execute_result"
    }
   ],
   "source": [
    "#look for missing data\n",
    "demand_df.isnull().sum()"
   ]
  },
  {
   "cell_type": "code",
   "execution_count": 37,
   "id": "29d90af6",
   "metadata": {},
   "outputs": [
    {
     "name": "stdout",
     "output_type": "stream",
     "text": [
      "<class 'pandas.core.frame.DataFrame'>\n",
      "RangeIndex: 64743 entries, 0 to 64742\n",
      "Data columns (total 15 columns):\n",
      " #   Column               Non-Null Count  Dtype              \n",
      "---  ------               --------------  -----              \n",
      " 0   timestamp            64743 non-null  datetime64[ns, UTC]\n",
      " 1   Avg_temp             64743 non-null  float64            \n",
      " 2   HDH                  64743 non-null  float64            \n",
      " 3   CDH                  64743 non-null  float64            \n",
      " 4   month                64743 non-null  int32              \n",
      " 5   year                 64743 non-null  int32              \n",
      " 6   dayofyear            64743 non-null  int32              \n",
      " 7   weekofyear           64743 non-null  int64              \n",
      " 8   is_weekend           64743 non-null  bool               \n",
      " 9   hour                 64743 non-null  int32              \n",
      " 10  dayofweek            64743 non-null  int32              \n",
      " 11  is_peak              64743 non-null  bool               \n",
      " 12  Population_Millions  64743 non-null  float64            \n",
      " 13  is_holiday           64743 non-null  bool               \n",
      " 14  system_demand        64722 non-null  float64            \n",
      "dtypes: bool(3), datetime64[ns, UTC](1), float64(5), int32(5), int64(1)\n",
      "memory usage: 4.9 MB\n"
     ]
    }
   ],
   "source": [
    "demand_df.info()"
   ]
  },
  {
   "cell_type": "code",
   "execution_count": 38,
   "id": "e85c283d",
   "metadata": {},
   "outputs": [],
   "source": [
    "# interpolate missing demand and price\n",
    "demand_df['timestamp'] = pd.to_datetime(demand_df['timestamp'])\n",
    "demand_df= demand_df.sort_values('timestamp')\n",
    "demand_df.set_index('timestamp', inplace=True)\n",
    "demand_df['system_demand'] = demand_df ['system_demand'].interpolate(method='time')"
   ]
  },
  {
   "cell_type": "code",
   "execution_count": 39,
   "id": "500408d6",
   "metadata": {},
   "outputs": [],
   "source": [
    "# Create lagged demand features\n",
    "for i in range(1, 25):\n",
    "    demand_df[f'demand_lag_{i}'] = demand_df['system_demand'].shift(i)\n",
    "\n",
    "for i in [24 * 7, 24 * 14]: # Add weekly and bi-weekly lags\n",
    "     demand_df[f'demand_lag_{i}'] = demand_df['system_demand'].shift(i)"
   ]
  },
  {
   "cell_type": "code",
   "execution_count": 42,
   "id": "2db64e3d",
   "metadata": {},
   "outputs": [],
   "source": [
    "demand_df_final=demand_df.copy()"
   ]
  },
  {
   "cell_type": "code",
   "execution_count": 43,
   "id": "aa1569bd",
   "metadata": {},
   "outputs": [
    {
     "name": "stdout",
     "output_type": "stream",
     "text": [
      "Training set shape (X_train, y_train): (51794, 39) (51794,)\n",
      "Testing set shape (X_test, y_test): (12949, 39) (12949,)\n"
     ]
    }
   ],
   "source": [
    "# Define the target variable\n",
    "target = 'system_demand'\n",
    "\n",
    "# Define features (all columns except the target and the timestamp index)\n",
    "features = [col for col in demand_df_final.columns if col != target and col != demand_df_final.index.name]\n",
    "\n",
    "X = demand_df_final[features]\n",
    "y = demand_df_final[target]\n",
    "\n",
    "# Determine the split point (80% for training, 20% for testing)\n",
    "train_split_index = int(len(demand_df_final) * 0.8)\n",
    "\n",
    "# Perform the chronological split\n",
    "X_train, X_test = X[:train_split_index], X[train_split_index:]\n",
    "y_train, y_test = y[:train_split_index], y[train_split_index:]\n",
    "\n",
    "print(\"Training set shape (X_train, y_train):\", X_train.shape, y_train.shape)\n",
    "print(\"Testing set shape (X_test, y_test):\", X_test.shape, y_test.shape)"
   ]
  },
  {
   "cell_type": "code",
   "execution_count": 44,
   "id": "8214f3e0",
   "metadata": {},
   "outputs": [
    {
     "data": {
      "text/html": [
       "<style>#sk-container-id-1 {\n",
       "  /* Definition of color scheme common for light and dark mode */\n",
       "  --sklearn-color-text: #000;\n",
       "  --sklearn-color-text-muted: #666;\n",
       "  --sklearn-color-line: gray;\n",
       "  /* Definition of color scheme for unfitted estimators */\n",
       "  --sklearn-color-unfitted-level-0: #fff5e6;\n",
       "  --sklearn-color-unfitted-level-1: #f6e4d2;\n",
       "  --sklearn-color-unfitted-level-2: #ffe0b3;\n",
       "  --sklearn-color-unfitted-level-3: chocolate;\n",
       "  /* Definition of color scheme for fitted estimators */\n",
       "  --sklearn-color-fitted-level-0: #f0f8ff;\n",
       "  --sklearn-color-fitted-level-1: #d4ebff;\n",
       "  --sklearn-color-fitted-level-2: #b3dbfd;\n",
       "  --sklearn-color-fitted-level-3: cornflowerblue;\n",
       "\n",
       "  /* Specific color for light theme */\n",
       "  --sklearn-color-text-on-default-background: var(--sg-text-color, var(--theme-code-foreground, var(--jp-content-font-color1, black)));\n",
       "  --sklearn-color-background: var(--sg-background-color, var(--theme-background, var(--jp-layout-color0, white)));\n",
       "  --sklearn-color-border-box: var(--sg-text-color, var(--theme-code-foreground, var(--jp-content-font-color1, black)));\n",
       "  --sklearn-color-icon: #696969;\n",
       "\n",
       "  @media (prefers-color-scheme: dark) {\n",
       "    /* Redefinition of color scheme for dark theme */\n",
       "    --sklearn-color-text-on-default-background: var(--sg-text-color, var(--theme-code-foreground, var(--jp-content-font-color1, white)));\n",
       "    --sklearn-color-background: var(--sg-background-color, var(--theme-background, var(--jp-layout-color0, #111)));\n",
       "    --sklearn-color-border-box: var(--sg-text-color, var(--theme-code-foreground, var(--jp-content-font-color1, white)));\n",
       "    --sklearn-color-icon: #878787;\n",
       "  }\n",
       "}\n",
       "\n",
       "#sk-container-id-1 {\n",
       "  color: var(--sklearn-color-text);\n",
       "}\n",
       "\n",
       "#sk-container-id-1 pre {\n",
       "  padding: 0;\n",
       "}\n",
       "\n",
       "#sk-container-id-1 input.sk-hidden--visually {\n",
       "  border: 0;\n",
       "  clip: rect(1px 1px 1px 1px);\n",
       "  clip: rect(1px, 1px, 1px, 1px);\n",
       "  height: 1px;\n",
       "  margin: -1px;\n",
       "  overflow: hidden;\n",
       "  padding: 0;\n",
       "  position: absolute;\n",
       "  width: 1px;\n",
       "}\n",
       "\n",
       "#sk-container-id-1 div.sk-dashed-wrapped {\n",
       "  border: 1px dashed var(--sklearn-color-line);\n",
       "  margin: 0 0.4em 0.5em 0.4em;\n",
       "  box-sizing: border-box;\n",
       "  padding-bottom: 0.4em;\n",
       "  background-color: var(--sklearn-color-background);\n",
       "}\n",
       "\n",
       "#sk-container-id-1 div.sk-container {\n",
       "  /* jupyter's `normalize.less` sets `[hidden] { display: none; }`\n",
       "     but bootstrap.min.css set `[hidden] { display: none !important; }`\n",
       "     so we also need the `!important` here to be able to override the\n",
       "     default hidden behavior on the sphinx rendered scikit-learn.org.\n",
       "     See: https://github.com/scikit-learn/scikit-learn/issues/21755 */\n",
       "  display: inline-block !important;\n",
       "  position: relative;\n",
       "}\n",
       "\n",
       "#sk-container-id-1 div.sk-text-repr-fallback {\n",
       "  display: none;\n",
       "}\n",
       "\n",
       "div.sk-parallel-item,\n",
       "div.sk-serial,\n",
       "div.sk-item {\n",
       "  /* draw centered vertical line to link estimators */\n",
       "  background-image: linear-gradient(var(--sklearn-color-text-on-default-background), var(--sklearn-color-text-on-default-background));\n",
       "  background-size: 2px 100%;\n",
       "  background-repeat: no-repeat;\n",
       "  background-position: center center;\n",
       "}\n",
       "\n",
       "/* Parallel-specific style estimator block */\n",
       "\n",
       "#sk-container-id-1 div.sk-parallel-item::after {\n",
       "  content: \"\";\n",
       "  width: 100%;\n",
       "  border-bottom: 2px solid var(--sklearn-color-text-on-default-background);\n",
       "  flex-grow: 1;\n",
       "}\n",
       "\n",
       "#sk-container-id-1 div.sk-parallel {\n",
       "  display: flex;\n",
       "  align-items: stretch;\n",
       "  justify-content: center;\n",
       "  background-color: var(--sklearn-color-background);\n",
       "  position: relative;\n",
       "}\n",
       "\n",
       "#sk-container-id-1 div.sk-parallel-item {\n",
       "  display: flex;\n",
       "  flex-direction: column;\n",
       "}\n",
       "\n",
       "#sk-container-id-1 div.sk-parallel-item:first-child::after {\n",
       "  align-self: flex-end;\n",
       "  width: 50%;\n",
       "}\n",
       "\n",
       "#sk-container-id-1 div.sk-parallel-item:last-child::after {\n",
       "  align-self: flex-start;\n",
       "  width: 50%;\n",
       "}\n",
       "\n",
       "#sk-container-id-1 div.sk-parallel-item:only-child::after {\n",
       "  width: 0;\n",
       "}\n",
       "\n",
       "/* Serial-specific style estimator block */\n",
       "\n",
       "#sk-container-id-1 div.sk-serial {\n",
       "  display: flex;\n",
       "  flex-direction: column;\n",
       "  align-items: center;\n",
       "  background-color: var(--sklearn-color-background);\n",
       "  padding-right: 1em;\n",
       "  padding-left: 1em;\n",
       "}\n",
       "\n",
       "\n",
       "/* Toggleable style: style used for estimator/Pipeline/ColumnTransformer box that is\n",
       "clickable and can be expanded/collapsed.\n",
       "- Pipeline and ColumnTransformer use this feature and define the default style\n",
       "- Estimators will overwrite some part of the style using the `sk-estimator` class\n",
       "*/\n",
       "\n",
       "/* Pipeline and ColumnTransformer style (default) */\n",
       "\n",
       "#sk-container-id-1 div.sk-toggleable {\n",
       "  /* Default theme specific background. It is overwritten whether we have a\n",
       "  specific estimator or a Pipeline/ColumnTransformer */\n",
       "  background-color: var(--sklearn-color-background);\n",
       "}\n",
       "\n",
       "/* Toggleable label */\n",
       "#sk-container-id-1 label.sk-toggleable__label {\n",
       "  cursor: pointer;\n",
       "  display: flex;\n",
       "  width: 100%;\n",
       "  margin-bottom: 0;\n",
       "  padding: 0.5em;\n",
       "  box-sizing: border-box;\n",
       "  text-align: center;\n",
       "  align-items: start;\n",
       "  justify-content: space-between;\n",
       "  gap: 0.5em;\n",
       "}\n",
       "\n",
       "#sk-container-id-1 label.sk-toggleable__label .caption {\n",
       "  font-size: 0.6rem;\n",
       "  font-weight: lighter;\n",
       "  color: var(--sklearn-color-text-muted);\n",
       "}\n",
       "\n",
       "#sk-container-id-1 label.sk-toggleable__label-arrow:before {\n",
       "  /* Arrow on the left of the label */\n",
       "  content: \"▸\";\n",
       "  float: left;\n",
       "  margin-right: 0.25em;\n",
       "  color: var(--sklearn-color-icon);\n",
       "}\n",
       "\n",
       "#sk-container-id-1 label.sk-toggleable__label-arrow:hover:before {\n",
       "  color: var(--sklearn-color-text);\n",
       "}\n",
       "\n",
       "/* Toggleable content - dropdown */\n",
       "\n",
       "#sk-container-id-1 div.sk-toggleable__content {\n",
       "  max-height: 0;\n",
       "  max-width: 0;\n",
       "  overflow: hidden;\n",
       "  text-align: left;\n",
       "  /* unfitted */\n",
       "  background-color: var(--sklearn-color-unfitted-level-0);\n",
       "}\n",
       "\n",
       "#sk-container-id-1 div.sk-toggleable__content.fitted {\n",
       "  /* fitted */\n",
       "  background-color: var(--sklearn-color-fitted-level-0);\n",
       "}\n",
       "\n",
       "#sk-container-id-1 div.sk-toggleable__content pre {\n",
       "  margin: 0.2em;\n",
       "  border-radius: 0.25em;\n",
       "  color: var(--sklearn-color-text);\n",
       "  /* unfitted */\n",
       "  background-color: var(--sklearn-color-unfitted-level-0);\n",
       "}\n",
       "\n",
       "#sk-container-id-1 div.sk-toggleable__content.fitted pre {\n",
       "  /* unfitted */\n",
       "  background-color: var(--sklearn-color-fitted-level-0);\n",
       "}\n",
       "\n",
       "#sk-container-id-1 input.sk-toggleable__control:checked~div.sk-toggleable__content {\n",
       "  /* Expand drop-down */\n",
       "  max-height: 200px;\n",
       "  max-width: 100%;\n",
       "  overflow: auto;\n",
       "}\n",
       "\n",
       "#sk-container-id-1 input.sk-toggleable__control:checked~label.sk-toggleable__label-arrow:before {\n",
       "  content: \"▾\";\n",
       "}\n",
       "\n",
       "/* Pipeline/ColumnTransformer-specific style */\n",
       "\n",
       "#sk-container-id-1 div.sk-label input.sk-toggleable__control:checked~label.sk-toggleable__label {\n",
       "  color: var(--sklearn-color-text);\n",
       "  background-color: var(--sklearn-color-unfitted-level-2);\n",
       "}\n",
       "\n",
       "#sk-container-id-1 div.sk-label.fitted input.sk-toggleable__control:checked~label.sk-toggleable__label {\n",
       "  background-color: var(--sklearn-color-fitted-level-2);\n",
       "}\n",
       "\n",
       "/* Estimator-specific style */\n",
       "\n",
       "/* Colorize estimator box */\n",
       "#sk-container-id-1 div.sk-estimator input.sk-toggleable__control:checked~label.sk-toggleable__label {\n",
       "  /* unfitted */\n",
       "  background-color: var(--sklearn-color-unfitted-level-2);\n",
       "}\n",
       "\n",
       "#sk-container-id-1 div.sk-estimator.fitted input.sk-toggleable__control:checked~label.sk-toggleable__label {\n",
       "  /* fitted */\n",
       "  background-color: var(--sklearn-color-fitted-level-2);\n",
       "}\n",
       "\n",
       "#sk-container-id-1 div.sk-label label.sk-toggleable__label,\n",
       "#sk-container-id-1 div.sk-label label {\n",
       "  /* The background is the default theme color */\n",
       "  color: var(--sklearn-color-text-on-default-background);\n",
       "}\n",
       "\n",
       "/* On hover, darken the color of the background */\n",
       "#sk-container-id-1 div.sk-label:hover label.sk-toggleable__label {\n",
       "  color: var(--sklearn-color-text);\n",
       "  background-color: var(--sklearn-color-unfitted-level-2);\n",
       "}\n",
       "\n",
       "/* Label box, darken color on hover, fitted */\n",
       "#sk-container-id-1 div.sk-label.fitted:hover label.sk-toggleable__label.fitted {\n",
       "  color: var(--sklearn-color-text);\n",
       "  background-color: var(--sklearn-color-fitted-level-2);\n",
       "}\n",
       "\n",
       "/* Estimator label */\n",
       "\n",
       "#sk-container-id-1 div.sk-label label {\n",
       "  font-family: monospace;\n",
       "  font-weight: bold;\n",
       "  display: inline-block;\n",
       "  line-height: 1.2em;\n",
       "}\n",
       "\n",
       "#sk-container-id-1 div.sk-label-container {\n",
       "  text-align: center;\n",
       "}\n",
       "\n",
       "/* Estimator-specific */\n",
       "#sk-container-id-1 div.sk-estimator {\n",
       "  font-family: monospace;\n",
       "  border: 1px dotted var(--sklearn-color-border-box);\n",
       "  border-radius: 0.25em;\n",
       "  box-sizing: border-box;\n",
       "  margin-bottom: 0.5em;\n",
       "  /* unfitted */\n",
       "  background-color: var(--sklearn-color-unfitted-level-0);\n",
       "}\n",
       "\n",
       "#sk-container-id-1 div.sk-estimator.fitted {\n",
       "  /* fitted */\n",
       "  background-color: var(--sklearn-color-fitted-level-0);\n",
       "}\n",
       "\n",
       "/* on hover */\n",
       "#sk-container-id-1 div.sk-estimator:hover {\n",
       "  /* unfitted */\n",
       "  background-color: var(--sklearn-color-unfitted-level-2);\n",
       "}\n",
       "\n",
       "#sk-container-id-1 div.sk-estimator.fitted:hover {\n",
       "  /* fitted */\n",
       "  background-color: var(--sklearn-color-fitted-level-2);\n",
       "}\n",
       "\n",
       "/* Specification for estimator info (e.g. \"i\" and \"?\") */\n",
       "\n",
       "/* Common style for \"i\" and \"?\" */\n",
       "\n",
       ".sk-estimator-doc-link,\n",
       "a:link.sk-estimator-doc-link,\n",
       "a:visited.sk-estimator-doc-link {\n",
       "  float: right;\n",
       "  font-size: smaller;\n",
       "  line-height: 1em;\n",
       "  font-family: monospace;\n",
       "  background-color: var(--sklearn-color-background);\n",
       "  border-radius: 1em;\n",
       "  height: 1em;\n",
       "  width: 1em;\n",
       "  text-decoration: none !important;\n",
       "  margin-left: 0.5em;\n",
       "  text-align: center;\n",
       "  /* unfitted */\n",
       "  border: var(--sklearn-color-unfitted-level-1) 1pt solid;\n",
       "  color: var(--sklearn-color-unfitted-level-1);\n",
       "}\n",
       "\n",
       ".sk-estimator-doc-link.fitted,\n",
       "a:link.sk-estimator-doc-link.fitted,\n",
       "a:visited.sk-estimator-doc-link.fitted {\n",
       "  /* fitted */\n",
       "  border: var(--sklearn-color-fitted-level-1) 1pt solid;\n",
       "  color: var(--sklearn-color-fitted-level-1);\n",
       "}\n",
       "\n",
       "/* On hover */\n",
       "div.sk-estimator:hover .sk-estimator-doc-link:hover,\n",
       ".sk-estimator-doc-link:hover,\n",
       "div.sk-label-container:hover .sk-estimator-doc-link:hover,\n",
       ".sk-estimator-doc-link:hover {\n",
       "  /* unfitted */\n",
       "  background-color: var(--sklearn-color-unfitted-level-3);\n",
       "  color: var(--sklearn-color-background);\n",
       "  text-decoration: none;\n",
       "}\n",
       "\n",
       "div.sk-estimator.fitted:hover .sk-estimator-doc-link.fitted:hover,\n",
       ".sk-estimator-doc-link.fitted:hover,\n",
       "div.sk-label-container:hover .sk-estimator-doc-link.fitted:hover,\n",
       ".sk-estimator-doc-link.fitted:hover {\n",
       "  /* fitted */\n",
       "  background-color: var(--sklearn-color-fitted-level-3);\n",
       "  color: var(--sklearn-color-background);\n",
       "  text-decoration: none;\n",
       "}\n",
       "\n",
       "/* Span, style for the box shown on hovering the info icon */\n",
       ".sk-estimator-doc-link span {\n",
       "  display: none;\n",
       "  z-index: 9999;\n",
       "  position: relative;\n",
       "  font-weight: normal;\n",
       "  right: .2ex;\n",
       "  padding: .5ex;\n",
       "  margin: .5ex;\n",
       "  width: min-content;\n",
       "  min-width: 20ex;\n",
       "  max-width: 50ex;\n",
       "  color: var(--sklearn-color-text);\n",
       "  box-shadow: 2pt 2pt 4pt #999;\n",
       "  /* unfitted */\n",
       "  background: var(--sklearn-color-unfitted-level-0);\n",
       "  border: .5pt solid var(--sklearn-color-unfitted-level-3);\n",
       "}\n",
       "\n",
       ".sk-estimator-doc-link.fitted span {\n",
       "  /* fitted */\n",
       "  background: var(--sklearn-color-fitted-level-0);\n",
       "  border: var(--sklearn-color-fitted-level-3);\n",
       "}\n",
       "\n",
       ".sk-estimator-doc-link:hover span {\n",
       "  display: block;\n",
       "}\n",
       "\n",
       "/* \"?\"-specific style due to the `<a>` HTML tag */\n",
       "\n",
       "#sk-container-id-1 a.estimator_doc_link {\n",
       "  float: right;\n",
       "  font-size: 1rem;\n",
       "  line-height: 1em;\n",
       "  font-family: monospace;\n",
       "  background-color: var(--sklearn-color-background);\n",
       "  border-radius: 1rem;\n",
       "  height: 1rem;\n",
       "  width: 1rem;\n",
       "  text-decoration: none;\n",
       "  /* unfitted */\n",
       "  color: var(--sklearn-color-unfitted-level-1);\n",
       "  border: var(--sklearn-color-unfitted-level-1) 1pt solid;\n",
       "}\n",
       "\n",
       "#sk-container-id-1 a.estimator_doc_link.fitted {\n",
       "  /* fitted */\n",
       "  border: var(--sklearn-color-fitted-level-1) 1pt solid;\n",
       "  color: var(--sklearn-color-fitted-level-1);\n",
       "}\n",
       "\n",
       "/* On hover */\n",
       "#sk-container-id-1 a.estimator_doc_link:hover {\n",
       "  /* unfitted */\n",
       "  background-color: var(--sklearn-color-unfitted-level-3);\n",
       "  color: var(--sklearn-color-background);\n",
       "  text-decoration: none;\n",
       "}\n",
       "\n",
       "#sk-container-id-1 a.estimator_doc_link.fitted:hover {\n",
       "  /* fitted */\n",
       "  background-color: var(--sklearn-color-fitted-level-3);\n",
       "}\n",
       "</style><div id=\"sk-container-id-1\" class=\"sk-top-container\"><div class=\"sk-text-repr-fallback\"><pre>XGBRegressor(base_score=None, booster=None, callbacks=None,\n",
       "             colsample_bylevel=None, colsample_bynode=None,\n",
       "             colsample_bytree=None, device=None, early_stopping_rounds=50,\n",
       "             enable_categorical=False, eval_metric=None, feature_types=None,\n",
       "             feature_weights=None, gamma=None, grow_policy=None,\n",
       "             importance_type=None, interaction_constraints=None,\n",
       "             learning_rate=0.05, max_bin=None, max_cat_threshold=None,\n",
       "             max_cat_to_onehot=None, max_delta_step=None, max_depth=None,\n",
       "             max_leaves=None, min_child_weight=None, missing=nan,\n",
       "             monotone_constraints=None, multi_strategy=None, n_estimators=1000,\n",
       "             n_jobs=None, num_parallel_tree=None, ...)</pre><b>In a Jupyter environment, please rerun this cell to show the HTML representation or trust the notebook. <br />On GitHub, the HTML representation is unable to render, please try loading this page with nbviewer.org.</b></div><div class=\"sk-container\" hidden><div class=\"sk-item\"><div class=\"sk-estimator fitted sk-toggleable\"><input class=\"sk-toggleable__control sk-hidden--visually\" id=\"sk-estimator-id-1\" type=\"checkbox\" checked><label for=\"sk-estimator-id-1\" class=\"sk-toggleable__label fitted sk-toggleable__label-arrow\"><div><div>XGBRegressor</div></div><div><a class=\"sk-estimator-doc-link fitted\" rel=\"noreferrer\" target=\"_blank\" href=\"https://xgboost.readthedocs.io/en/release_3.0.0/python/python_api.html#xgboost.XGBRegressor\">?<span>Documentation for XGBRegressor</span></a><span class=\"sk-estimator-doc-link fitted\">i<span>Fitted</span></span></div></label><div class=\"sk-toggleable__content fitted\"><pre>XGBRegressor(base_score=None, booster=None, callbacks=None,\n",
       "             colsample_bylevel=None, colsample_bynode=None,\n",
       "             colsample_bytree=None, device=None, early_stopping_rounds=50,\n",
       "             enable_categorical=False, eval_metric=None, feature_types=None,\n",
       "             feature_weights=None, gamma=None, grow_policy=None,\n",
       "             importance_type=None, interaction_constraints=None,\n",
       "             learning_rate=0.05, max_bin=None, max_cat_threshold=None,\n",
       "             max_cat_to_onehot=None, max_delta_step=None, max_depth=None,\n",
       "             max_leaves=None, min_child_weight=None, missing=nan,\n",
       "             monotone_constraints=None, multi_strategy=None, n_estimators=1000,\n",
       "             n_jobs=None, num_parallel_tree=None, ...)</pre></div> </div></div></div></div>"
      ],
      "text/plain": [
       "XGBRegressor(base_score=None, booster=None, callbacks=None,\n",
       "             colsample_bylevel=None, colsample_bynode=None,\n",
       "             colsample_bytree=None, device=None, early_stopping_rounds=50,\n",
       "             enable_categorical=False, eval_metric=None, feature_types=None,\n",
       "             feature_weights=None, gamma=None, grow_policy=None,\n",
       "             importance_type=None, interaction_constraints=None,\n",
       "             learning_rate=0.05, max_bin=None, max_cat_threshold=None,\n",
       "             max_cat_to_onehot=None, max_delta_step=None, max_depth=None,\n",
       "             max_leaves=None, min_child_weight=None, missing=nan,\n",
       "             monotone_constraints=None, multi_strategy=None, n_estimators=1000,\n",
       "             n_jobs=None, num_parallel_tree=None, ...)"
      ]
     },
     "execution_count": 44,
     "metadata": {},
     "output_type": "execute_result"
    }
   ],
   "source": [
    "# Initialize and train the XGBoost Regressor model\n",
    "xgb_model = XGBRegressor(n_estimators=1000, learning_rate=0.05, early_stopping_rounds=50, random_state=42)\n",
    "\n",
    "xgb_model.fit(X_train, y_train,\n",
    "              eval_set=[(X_train, y_train), (X_test, y_test)],\n",
    "              verbose=False)"
   ]
  },
  {
   "cell_type": "code",
   "execution_count": 45,
   "id": "1f39a767",
   "metadata": {},
   "outputs": [
    {
     "name": "stdout",
     "output_type": "stream",
     "text": [
      "Training set Mean Absolute Error (MAE): 29.86\n",
      "Training set Root Mean Squared Error (RMSE): 38.91\n"
     ]
    }
   ],
   "source": [
    "# Make predictions on the train set\n",
    "y_train_pred = xgb_model.predict(X_train)\n",
    "\n",
    "# Evaluate the model using MAE and RMSE\n",
    "train_mae = mean_absolute_error(y_train, y_train_pred)\n",
    "train_rmse = np.sqrt(mean_squared_error(y_train, y_train_pred))\n",
    "\n",
    "print(f\"Training set Mean Absolute Error (MAE): {train_mae:.2f}\")\n",
    "print(f\"Training set Root Mean Squared Error (RMSE): {train_rmse:.2f}\")"
   ]
  },
  {
   "cell_type": "code",
   "execution_count": 47,
   "id": "e1ce67ae",
   "metadata": {},
   "outputs": [
    {
     "name": "stdout",
     "output_type": "stream",
     "text": [
      "Mean Absolute Error (MAE): 47.45\n",
      "Root Mean Squared Error (RMSE): 66.98\n"
     ]
    }
   ],
   "source": [
    "# Make predictions on the test set\n",
    "y_pred = xgb_model.predict(X_test)\n",
    "\n",
    "# Evaluate the model using MAE and RMSE\n",
    "mae = mean_absolute_error(y_test, y_pred)\n",
    "rmse = np.sqrt(mean_squared_error(y_test, y_pred))\n",
    "\n",
    "print(f\"Mean Absolute Error (MAE): {mae:.2f}\")\n",
    "print(f\"Root Mean Squared Error (RMSE): {rmse:.2f}\")"
   ]
  },
  {
   "cell_type": "code",
   "execution_count": 52,
   "id": "7814e324",
   "metadata": {},
   "outputs": [
    {
     "data": {
      "text/plain": [
       "['../outputs/demand_model.joblib']"
      ]
     },
     "execution_count": 52,
     "metadata": {},
     "output_type": "execute_result"
    }
   ],
   "source": [
    "import joblib\n",
    "joblib.dump(xgb_model, '../outputs/demand_model.joblib')"
   ]
  },
  {
   "cell_type": "code",
   "execution_count": 48,
   "id": "55184918",
   "metadata": {},
   "outputs": [
    {
     "data": {
      "image/png": "[encoded data removed]",
      "text/plain": [
       "<Figure size 1500x600 with 1 Axes>"
      ]
     },
     "metadata": {},
     "output_type": "display_data"
    }
   ],
   "source": [
    "plt.figure(figsize=(15, 6))\n",
    "plt.plot(y_test.index, y_test, label='Actual Demand')\n",
    "plt.plot(y_test.index, y_pred, label='Predicted Demand')\n",
    "plt.xlabel('Timestamp')\n",
    "plt.ylabel('Demand (MW)')\n",
    "plt.title('Actual vs. Predicted Demand')\n",
    "plt.legend()\n",
    "plt.grid(True)\n",
    "plt.show()"
   ]
  },
  {
   "cell_type": "code",
   "execution_count": 49,
   "id": "3eeb8c04",
   "metadata": {},
   "outputs": [
    {
     "data": {
      "application/vnd.microsoft.datawrangler.viewer.v0+json": {
       "columns": [
        {
         "name": "timestamp",
         "rawType": "datetime64[ns, UTC]",
         "type": "unknown"
        },
        {
         "name": "month",
         "rawType": "int32",
         "type": "integer"
        },
        {
         "name": "year",
         "rawType": "int32",
         "type": "integer"
        },
        {
         "name": "dayofyear",
         "rawType": "int32",
         "type": "integer"
        },
        {
         "name": "weekofyear",
         "rawType": "int64",
         "type": "integer"
        },
        {
         "name": "is_weekend",
         "rawType": "bool",
         "type": "boolean"
        },
        {
         "name": "hour",
         "rawType": "int32",
         "type": "integer"
        },
        {
         "name": "dayofweek",
         "rawType": "int32",
         "type": "integer"
        },
        {
         "name": "is_peak",
         "rawType": "bool",
         "type": "boolean"
        },
        {
         "name": "Avg_temp",
         "rawType": "float64",
         "type": "float"
        },
        {
         "name": "HDH",
         "rawType": "float64",
         "type": "float"
        },
        {
         "name": "CDH",
         "rawType": "float64",
         "type": "float"
        },
        {
         "name": "Population_Millions",
         "rawType": "float64",
         "type": "float"
        },
        {
         "name": "is_holiday",
         "rawType": "bool",
         "type": "boolean"
        }
       ],
       "ref": "88423b0a-e847-49cf-b022-132aa7778cd4",
       "rows": [
        [
         "2025-05-21 08:00:00+00:00",
         "5",
         "2025",
         "141",
         "21",
         "False",
         "8",
         "2",
         "True",
         "10.178571428571429",
         "7.821428571428571",
         "0.0",
         "5.07",
         "False"
        ],
        [
         "2025-05-21 09:00:00+00:00",
         "5",
         "2025",
         "141",
         "21",
         "False",
         "9",
         "2",
         "True",
         "11.285714285714286",
         "6.7142857142857135",
         "0.0",
         "5.07",
         "False"
        ],
        [
         "2025-05-21 10:00:00+00:00",
         "5",
         "2025",
         "141",
         "21",
         "False",
         "10",
         "2",
         "True",
         "12.12857142857143",
         "5.87142857142857",
         "0.0",
         "5.07",
         "False"
        ],
        [
         "2025-05-21 11:00:00+00:00",
         "5",
         "2025",
         "141",
         "21",
         "False",
         "11",
         "2",
         "True",
         "12.75",
         "5.25",
         "0.0",
         "5.07",
         "False"
        ],
        [
         "2025-05-21 12:00:00+00:00",
         "5",
         "2025",
         "141",
         "21",
         "False",
         "12",
         "2",
         "True",
         "13.471428571428572",
         "4.5285714285714285",
         "0.0",
         "5.07",
         "False"
        ]
       ],
       "shape": {
        "columns": 13,
        "rows": 5
       }
      },
      "text/html": [
       "<div>\n",
       "<style scoped>\n",
       "    .dataframe tbody tr th:only-of-type {\n",
       "        vertical-align: middle;\n",
       "    }\n",
       "\n",
       "    .dataframe tbody tr th {\n",
       "        vertical-align: top;\n",
       "    }\n",
       "\n",
       "    .dataframe thead th {\n",
       "        text-align: right;\n",
       "    }\n",
       "</style>\n",
       "<table border=\"1\" class=\"dataframe\">\n",
       "  <thead>\n",
       "    <tr style=\"text-align: right;\">\n",
       "      <th></th>\n",
       "      <th>month</th>\n",
       "      <th>year</th>\n",
       "      <th>dayofyear</th>\n",
       "      <th>weekofyear</th>\n",
       "      <th>is_weekend</th>\n",
       "      <th>hour</th>\n",
       "      <th>dayofweek</th>\n",
       "      <th>is_peak</th>\n",
       "      <th>Avg_temp</th>\n",
       "      <th>HDH</th>\n",
       "      <th>CDH</th>\n",
       "      <th>Population_Millions</th>\n",
       "      <th>is_holiday</th>\n",
       "    </tr>\n",
       "    <tr>\n",
       "      <th>timestamp</th>\n",
       "      <th></th>\n",
       "      <th></th>\n",
       "      <th></th>\n",
       "      <th></th>\n",
       "      <th></th>\n",
       "      <th></th>\n",
       "      <th></th>\n",
       "      <th></th>\n",
       "      <th></th>\n",
       "      <th></th>\n",
       "      <th></th>\n",
       "      <th></th>\n",
       "      <th></th>\n",
       "    </tr>\n",
       "  </thead>\n",
       "  <tbody>\n",
       "    <tr>\n",
       "      <th>2025-05-21 08:00:00+00:00</th>\n",
       "      <td>5</td>\n",
       "      <td>2025</td>\n",
       "      <td>141</td>\n",
       "      <td>21</td>\n",
       "      <td>False</td>\n",
       "      <td>8</td>\n",
       "      <td>2</td>\n",
       "      <td>True</td>\n",
       "      <td>10.178571</td>\n",
       "      <td>7.821429</td>\n",
       "      <td>0.0</td>\n",
       "      <td>5.07</td>\n",
       "      <td>False</td>\n",
       "    </tr>\n",
       "    <tr>\n",
       "      <th>2025-05-21 09:00:00+00:00</th>\n",
       "      <td>5</td>\n",
       "      <td>2025</td>\n",
       "      <td>141</td>\n",
       "      <td>21</td>\n",
       "      <td>False</td>\n",
       "      <td>9</td>\n",
       "      <td>2</td>\n",
       "      <td>True</td>\n",
       "      <td>11.285714</td>\n",
       "      <td>6.714286</td>\n",
       "      <td>0.0</td>\n",
       "      <td>5.07</td>\n",
       "      <td>False</td>\n",
       "    </tr>\n",
       "    <tr>\n",
       "      <th>2025-05-21 10:00:00+00:00</th>\n",
       "      <td>5</td>\n",
       "      <td>2025</td>\n",
       "      <td>141</td>\n",
       "      <td>21</td>\n",
       "      <td>False</td>\n",
       "      <td>10</td>\n",
       "      <td>2</td>\n",
       "      <td>True</td>\n",
       "      <td>12.128571</td>\n",
       "      <td>5.871429</td>\n",
       "      <td>0.0</td>\n",
       "      <td>5.07</td>\n",
       "      <td>False</td>\n",
       "    </tr>\n",
       "    <tr>\n",
       "      <th>2025-05-21 11:00:00+00:00</th>\n",
       "      <td>5</td>\n",
       "      <td>2025</td>\n",
       "      <td>141</td>\n",
       "      <td>21</td>\n",
       "      <td>False</td>\n",
       "      <td>11</td>\n",
       "      <td>2</td>\n",
       "      <td>True</td>\n",
       "      <td>12.750000</td>\n",
       "      <td>5.250000</td>\n",
       "      <td>0.0</td>\n",
       "      <td>5.07</td>\n",
       "      <td>False</td>\n",
       "    </tr>\n",
       "    <tr>\n",
       "      <th>2025-05-21 12:00:00+00:00</th>\n",
       "      <td>5</td>\n",
       "      <td>2025</td>\n",
       "      <td>141</td>\n",
       "      <td>21</td>\n",
       "      <td>False</td>\n",
       "      <td>12</td>\n",
       "      <td>2</td>\n",
       "      <td>True</td>\n",
       "      <td>13.471429</td>\n",
       "      <td>4.528571</td>\n",
       "      <td>0.0</td>\n",
       "      <td>5.07</td>\n",
       "      <td>False</td>\n",
       "    </tr>\n",
       "  </tbody>\n",
       "</table>\n",
       "</div>"
      ],
      "text/plain": [
       "                           month  year  dayofyear  weekofyear  is_weekend  \\\n",
       "timestamp                                                                   \n",
       "2025-05-21 08:00:00+00:00      5  2025        141          21       False   \n",
       "2025-05-21 09:00:00+00:00      5  2025        141          21       False   \n",
       "2025-05-21 10:00:00+00:00      5  2025        141          21       False   \n",
       "2025-05-21 11:00:00+00:00      5  2025        141          21       False   \n",
       "2025-05-21 12:00:00+00:00      5  2025        141          21       False   \n",
       "\n",
       "                           hour  dayofweek  is_peak   Avg_temp       HDH  CDH  \\\n",
       "timestamp                                                                       \n",
       "2025-05-21 08:00:00+00:00     8          2     True  10.178571  7.821429  0.0   \n",
       "2025-05-21 09:00:00+00:00     9          2     True  11.285714  6.714286  0.0   \n",
       "2025-05-21 10:00:00+00:00    10          2     True  12.128571  5.871429  0.0   \n",
       "2025-05-21 11:00:00+00:00    11          2     True  12.750000  5.250000  0.0   \n",
       "2025-05-21 12:00:00+00:00    12          2     True  13.471429  4.528571  0.0   \n",
       "\n",
       "                           Population_Millions  is_holiday  \n",
       "timestamp                                                   \n",
       "2025-05-21 08:00:00+00:00                 5.07       False  \n",
       "2025-05-21 09:00:00+00:00                 5.07       False  \n",
       "2025-05-21 10:00:00+00:00                 5.07       False  \n",
       "2025-05-21 11:00:00+00:00                 5.07       False  \n",
       "2025-05-21 12:00:00+00:00                 5.07       False  "
      ]
     },
     "execution_count": 49,
     "metadata": {},
     "output_type": "execute_result"
    }
   ],
   "source": [
    "future_data=future_data.set_index('timestamp')\n",
    "future_data.head()"
   ]
  },
  {
   "cell_type": "code",
   "execution_count": 50,
   "id": "664262a8",
   "metadata": {},
   "outputs": [
    {
     "name": "stdout",
     "output_type": "stream",
     "text": [
      "One-year forecast data (head):\n"
     ]
    },
    {
     "data": {
      "application/vnd.microsoft.datawrangler.viewer.v0+json": {
       "columns": [
        {
         "name": "timestamp",
         "rawType": "datetime64[ns, UTC]",
         "type": "unknown"
        },
        {
         "name": "month",
         "rawType": "int32",
         "type": "integer"
        },
        {
         "name": "year",
         "rawType": "int32",
         "type": "integer"
        },
        {
         "name": "dayofyear",
         "rawType": "int32",
         "type": "integer"
        },
        {
         "name": "weekofyear",
         "rawType": "int64",
         "type": "integer"
        },
        {
         "name": "is_weekend",
         "rawType": "bool",
         "type": "boolean"
        },
        {
         "name": "hour",
         "rawType": "int32",
         "type": "integer"
        },
        {
         "name": "dayofweek",
         "rawType": "int32",
         "type": "integer"
        },
        {
         "name": "is_peak",
         "rawType": "bool",
         "type": "boolean"
        },
        {
         "name": "Avg_temp",
         "rawType": "float64",
         "type": "float"
        },
        {
         "name": "HDH",
         "rawType": "float64",
         "type": "float"
        },
        {
         "name": "CDH",
         "rawType": "float64",
         "type": "float"
        },
        {
         "name": "Population_Millions",
         "rawType": "float64",
         "type": "float"
        },
        {
         "name": "is_holiday",
         "rawType": "bool",
         "type": "boolean"
        },
        {
         "name": "system_demand_predicted",
         "rawType": "float64",
         "type": "float"
        }
       ],
       "ref": "38e27cf1-a769-4d7b-b5d0-e8aa678059ee",
       "rows": [
        [
         "2025-05-21 08:00:00+00:00",
         "5",
         "2025",
         "141",
         "21",
         "False",
         "8",
         "2",
         "True",
         "10.178571428571429",
         "7.821428571428571",
         "0.0",
         "5.07",
         "False",
         "9657.9912109375"
        ],
        [
         "2025-05-21 09:00:00+00:00",
         "5",
         "2025",
         "141",
         "21",
         "False",
         "9",
         "2",
         "True",
         "11.285714285714286",
         "6.7142857142857135",
         "0.0",
         "5.07",
         "False",
         "9742.6181640625"
        ],
        [
         "2025-05-21 10:00:00+00:00",
         "5",
         "2025",
         "141",
         "21",
         "False",
         "10",
         "2",
         "True",
         "12.12857142857143",
         "5.87142857142857",
         "0.0",
         "5.07",
         "False",
         "9795.6728515625"
        ],
        [
         "2025-05-21 11:00:00+00:00",
         "5",
         "2025",
         "141",
         "21",
         "False",
         "11",
         "2",
         "True",
         "12.75",
         "5.25",
         "0.0",
         "5.07",
         "False",
         "9790.685546875"
        ],
        [
         "2025-05-21 12:00:00+00:00",
         "5",
         "2025",
         "141",
         "21",
         "False",
         "12",
         "2",
         "True",
         "13.471428571428572",
         "4.5285714285714285",
         "0.0",
         "5.07",
         "False",
         "9776.2119140625"
        ]
       ],
       "shape": {
        "columns": 14,
        "rows": 5
       }
      },
      "text/html": [
       "<div>\n",
       "<style scoped>\n",
       "    .dataframe tbody tr th:only-of-type {\n",
       "        vertical-align: middle;\n",
       "    }\n",
       "\n",
       "    .dataframe tbody tr th {\n",
       "        vertical-align: top;\n",
       "    }\n",
       "\n",
       "    .dataframe thead th {\n",
       "        text-align: right;\n",
       "    }\n",
       "</style>\n",
       "<table border=\"1\" class=\"dataframe\">\n",
       "  <thead>\n",
       "    <tr style=\"text-align: right;\">\n",
       "      <th></th>\n",
       "      <th>month</th>\n",
       "      <th>year</th>\n",
       "      <th>dayofyear</th>\n",
       "      <th>weekofyear</th>\n",
       "      <th>is_weekend</th>\n",
       "      <th>hour</th>\n",
       "      <th>dayofweek</th>\n",
       "      <th>is_peak</th>\n",
       "      <th>Avg_temp</th>\n",
       "      <th>HDH</th>\n",
       "      <th>CDH</th>\n",
       "      <th>Population_Millions</th>\n",
       "      <th>is_holiday</th>\n",
       "      <th>system_demand_predicted</th>\n",
       "    </tr>\n",
       "    <tr>\n",
       "      <th>timestamp</th>\n",
       "      <th></th>\n",
       "      <th></th>\n",
       "      <th></th>\n",
       "      <th></th>\n",
       "      <th></th>\n",
       "      <th></th>\n",
       "      <th></th>\n",
       "      <th></th>\n",
       "      <th></th>\n",
       "      <th></th>\n",
       "      <th></th>\n",
       "      <th></th>\n",
       "      <th></th>\n",
       "      <th></th>\n",
       "    </tr>\n",
       "  </thead>\n",
       "  <tbody>\n",
       "    <tr>\n",
       "      <th>2025-05-21 08:00:00+00:00</th>\n",
       "      <td>5</td>\n",
       "      <td>2025</td>\n",
       "      <td>141</td>\n",
       "      <td>21</td>\n",
       "      <td>False</td>\n",
       "      <td>8</td>\n",
       "      <td>2</td>\n",
       "      <td>True</td>\n",
       "      <td>10.178571</td>\n",
       "      <td>7.821429</td>\n",
       "      <td>0.0</td>\n",
       "      <td>5.07</td>\n",
       "      <td>False</td>\n",
       "      <td>9657.991211</td>\n",
       "    </tr>\n",
       "    <tr>\n",
       "      <th>2025-05-21 09:00:00+00:00</th>\n",
       "      <td>5</td>\n",
       "      <td>2025</td>\n",
       "      <td>141</td>\n",
       "      <td>21</td>\n",
       "      <td>False</td>\n",
       "      <td>9</td>\n",
       "      <td>2</td>\n",
       "      <td>True</td>\n",
       "      <td>11.285714</td>\n",
       "      <td>6.714286</td>\n",
       "      <td>0.0</td>\n",
       "      <td>5.07</td>\n",
       "      <td>False</td>\n",
       "      <td>9742.618164</td>\n",
       "    </tr>\n",
       "    <tr>\n",
       "      <th>2025-05-21 10:00:00+00:00</th>\n",
       "      <td>5</td>\n",
       "      <td>2025</td>\n",
       "      <td>141</td>\n",
       "      <td>21</td>\n",
       "      <td>False</td>\n",
       "      <td>10</td>\n",
       "      <td>2</td>\n",
       "      <td>True</td>\n",
       "      <td>12.128571</td>\n",
       "      <td>5.871429</td>\n",
       "      <td>0.0</td>\n",
       "      <td>5.07</td>\n",
       "      <td>False</td>\n",
       "      <td>9795.672852</td>\n",
       "    </tr>\n",
       "    <tr>\n",
       "      <th>2025-05-21 11:00:00+00:00</th>\n",
       "      <td>5</td>\n",
       "      <td>2025</td>\n",
       "      <td>141</td>\n",
       "      <td>21</td>\n",
       "      <td>False</td>\n",
       "      <td>11</td>\n",
       "      <td>2</td>\n",
       "      <td>True</td>\n",
       "      <td>12.750000</td>\n",
       "      <td>5.250000</td>\n",
       "      <td>0.0</td>\n",
       "      <td>5.07</td>\n",
       "      <td>False</td>\n",
       "      <td>9790.685547</td>\n",
       "    </tr>\n",
       "    <tr>\n",
       "      <th>2025-05-21 12:00:00+00:00</th>\n",
       "      <td>5</td>\n",
       "      <td>2025</td>\n",
       "      <td>141</td>\n",
       "      <td>21</td>\n",
       "      <td>False</td>\n",
       "      <td>12</td>\n",
       "      <td>2</td>\n",
       "      <td>True</td>\n",
       "      <td>13.471429</td>\n",
       "      <td>4.528571</td>\n",
       "      <td>0.0</td>\n",
       "      <td>5.07</td>\n",
       "      <td>False</td>\n",
       "      <td>9776.211914</td>\n",
       "    </tr>\n",
       "  </tbody>\n",
       "</table>\n",
       "</div>"
      ],
      "text/plain": [
       "                           month  year  dayofyear  weekofyear  is_weekend  \\\n",
       "timestamp                                                                   \n",
       "2025-05-21 08:00:00+00:00      5  2025        141          21       False   \n",
       "2025-05-21 09:00:00+00:00      5  2025        141          21       False   \n",
       "2025-05-21 10:00:00+00:00      5  2025        141          21       False   \n",
       "2025-05-21 11:00:00+00:00      5  2025        141          21       False   \n",
       "2025-05-21 12:00:00+00:00      5  2025        141          21       False   \n",
       "\n",
       "                           hour  dayofweek  is_peak   Avg_temp       HDH  CDH  \\\n",
       "timestamp                                                                       \n",
       "2025-05-21 08:00:00+00:00     8          2     True  10.178571  7.821429  0.0   \n",
       "2025-05-21 09:00:00+00:00     9          2     True  11.285714  6.714286  0.0   \n",
       "2025-05-21 10:00:00+00:00    10          2     True  12.128571  5.871429  0.0   \n",
       "2025-05-21 11:00:00+00:00    11          2     True  12.750000  5.250000  0.0   \n",
       "2025-05-21 12:00:00+00:00    12          2     True  13.471429  4.528571  0.0   \n",
       "\n",
       "                           Population_Millions  is_holiday  \\\n",
       "timestamp                                                    \n",
       "2025-05-21 08:00:00+00:00                 5.07       False   \n",
       "2025-05-21 09:00:00+00:00                 5.07       False   \n",
       "2025-05-21 10:00:00+00:00                 5.07       False   \n",
       "2025-05-21 11:00:00+00:00                 5.07       False   \n",
       "2025-05-21 12:00:00+00:00                 5.07       False   \n",
       "\n",
       "                           system_demand_predicted  \n",
       "timestamp                                           \n",
       "2025-05-21 08:00:00+00:00              9657.991211  \n",
       "2025-05-21 09:00:00+00:00              9742.618164  \n",
       "2025-05-21 10:00:00+00:00              9795.672852  \n",
       "2025-05-21 11:00:00+00:00              9790.685547  \n",
       "2025-05-21 12:00:00+00:00              9776.211914  "
      ]
     },
     "metadata": {},
     "output_type": "display_data"
    },
    {
     "name": "stdout",
     "output_type": "stream",
     "text": [
      "\n",
      "One-year forecast data (tail):\n"
     ]
    },
    {
     "data": {
      "application/vnd.microsoft.datawrangler.viewer.v0+json": {
       "columns": [
        {
         "name": "timestamp",
         "rawType": "datetime64[ns, UTC]",
         "type": "unknown"
        },
        {
         "name": "month",
         "rawType": "int32",
         "type": "integer"
        },
        {
         "name": "year",
         "rawType": "int32",
         "type": "integer"
        },
        {
         "name": "dayofyear",
         "rawType": "int32",
         "type": "integer"
        },
        {
         "name": "weekofyear",
         "rawType": "int64",
         "type": "integer"
        },
        {
         "name": "is_weekend",
         "rawType": "bool",
         "type": "boolean"
        },
        {
         "name": "hour",
         "rawType": "int32",
         "type": "integer"
        },
        {
         "name": "dayofweek",
         "rawType": "int32",
         "type": "integer"
        },
        {
         "name": "is_peak",
         "rawType": "bool",
         "type": "boolean"
        },
        {
         "name": "Avg_temp",
         "rawType": "float64",
         "type": "float"
        },
        {
         "name": "HDH",
         "rawType": "float64",
         "type": "float"
        },
        {
         "name": "CDH",
         "rawType": "float64",
         "type": "float"
        },
        {
         "name": "Population_Millions",
         "rawType": "float64",
         "type": "float"
        },
        {
         "name": "is_holiday",
         "rawType": "bool",
         "type": "boolean"
        },
        {
         "name": "system_demand_predicted",
         "rawType": "float64",
         "type": "float"
        }
       ],
       "ref": "b81eea6d-e149-4ec5-81f6-ceb7199bd058",
       "rows": [
        [
         "2026-05-21 03:00:00+00:00",
         "5",
         "2026",
         "141",
         "21",
         "False",
         "3",
         "3",
         "False",
         "5.53125",
         "12.46875",
         "0.0",
         "5.19",
         "False",
         "7956.1474609375"
        ],
        [
         "2026-05-21 04:00:00+00:00",
         "5",
         "2026",
         "141",
         "21",
         "False",
         "4",
         "3",
         "False",
         "5.325",
         "12.675",
         "0.0",
         "5.19",
         "False",
         "8022.77490234375"
        ],
        [
         "2026-05-21 05:00:00+00:00",
         "5",
         "2026",
         "141",
         "21",
         "False",
         "5",
         "3",
         "False",
         "5.05625",
         "12.94375",
         "0.0",
         "5.19",
         "False",
         "8069.7841796875"
        ],
        [
         "2026-05-21 06:00:00+00:00",
         "5",
         "2026",
         "141",
         "21",
         "False",
         "6",
         "3",
         "False",
         "6.2375",
         "11.7625",
         "0.0",
         "5.19",
         "False",
         "8283.9990234375"
        ],
        [
         "2026-05-21 07:00:00+00:00",
         "5",
         "2026",
         "141",
         "21",
         "False",
         "7",
         "3",
         "True",
         "8.025",
         "9.975",
         "0.0",
         "5.19",
         "False",
         "8620.873046875"
        ]
       ],
       "shape": {
        "columns": 14,
        "rows": 5
       }
      },
      "text/html": [
       "<div>\n",
       "<style scoped>\n",
       "    .dataframe tbody tr th:only-of-type {\n",
       "        vertical-align: middle;\n",
       "    }\n",
       "\n",
       "    .dataframe tbody tr th {\n",
       "        vertical-align: top;\n",
       "    }\n",
       "\n",
       "    .dataframe thead th {\n",
       "        text-align: right;\n",
       "    }\n",
       "</style>\n",
       "<table border=\"1\" class=\"dataframe\">\n",
       "  <thead>\n",
       "    <tr style=\"text-align: right;\">\n",
       "      <th></th>\n",
       "      <th>month</th>\n",
       "      <th>year</th>\n",
       "      <th>dayofyear</th>\n",
       "      <th>weekofyear</th>\n",
       "      <th>is_weekend</th>\n",
       "      <th>hour</th>\n",
       "      <th>dayofweek</th>\n",
       "      <th>is_peak</th>\n",
       "      <th>Avg_temp</th>\n",
       "      <th>HDH</th>\n",
       "      <th>CDH</th>\n",
       "      <th>Population_Millions</th>\n",
       "      <th>is_holiday</th>\n",
       "      <th>system_demand_predicted</th>\n",
       "    </tr>\n",
       "    <tr>\n",
       "      <th>timestamp</th>\n",
       "      <th></th>\n",
       "      <th></th>\n",
       "      <th></th>\n",
       "      <th></th>\n",
       "      <th></th>\n",
       "      <th></th>\n",
       "      <th></th>\n",
       "      <th></th>\n",
       "      <th></th>\n",
       "      <th></th>\n",
       "      <th></th>\n",
       "      <th></th>\n",
       "      <th></th>\n",
       "      <th></th>\n",
       "    </tr>\n",
       "  </thead>\n",
       "  <tbody>\n",
       "    <tr>\n",
       "      <th>2026-05-21 03:00:00+00:00</th>\n",
       "      <td>5</td>\n",
       "      <td>2026</td>\n",
       "      <td>141</td>\n",
       "      <td>21</td>\n",
       "      <td>False</td>\n",
       "      <td>3</td>\n",
       "      <td>3</td>\n",
       "      <td>False</td>\n",
       "      <td>5.53125</td>\n",
       "      <td>12.46875</td>\n",
       "      <td>0.0</td>\n",
       "      <td>5.19</td>\n",
       "      <td>False</td>\n",
       "      <td>7956.147461</td>\n",
       "    </tr>\n",
       "    <tr>\n",
       "      <th>2026-05-21 04:00:00+00:00</th>\n",
       "      <td>5</td>\n",
       "      <td>2026</td>\n",
       "      <td>141</td>\n",
       "      <td>21</td>\n",
       "      <td>False</td>\n",
       "      <td>4</td>\n",
       "      <td>3</td>\n",
       "      <td>False</td>\n",
       "      <td>5.32500</td>\n",
       "      <td>12.67500</td>\n",
       "      <td>0.0</td>\n",
       "      <td>5.19</td>\n",
       "      <td>False</td>\n",
       "      <td>8022.774902</td>\n",
       "    </tr>\n",
       "    <tr>\n",
       "      <th>2026-05-21 05:00:00+00:00</th>\n",
       "      <td>5</td>\n",
       "      <td>2026</td>\n",
       "      <td>141</td>\n",
       "      <td>21</td>\n",
       "      <td>False</td>\n",
       "      <td>5</td>\n",
       "      <td>3</td>\n",
       "      <td>False</td>\n",
       "      <td>5.05625</td>\n",
       "      <td>12.94375</td>\n",
       "      <td>0.0</td>\n",
       "      <td>5.19</td>\n",
       "      <td>False</td>\n",
       "      <td>8069.784180</td>\n",
       "    </tr>\n",
       "    <tr>\n",
       "      <th>2026-05-21 06:00:00+00:00</th>\n",
       "      <td>5</td>\n",
       "      <td>2026</td>\n",
       "      <td>141</td>\n",
       "      <td>21</td>\n",
       "      <td>False</td>\n",
       "      <td>6</td>\n",
       "      <td>3</td>\n",
       "      <td>False</td>\n",
       "      <td>6.23750</td>\n",
       "      <td>11.76250</td>\n",
       "      <td>0.0</td>\n",
       "      <td>5.19</td>\n",
       "      <td>False</td>\n",
       "      <td>8283.999023</td>\n",
       "    </tr>\n",
       "    <tr>\n",
       "      <th>2026-05-21 07:00:00+00:00</th>\n",
       "      <td>5</td>\n",
       "      <td>2026</td>\n",
       "      <td>141</td>\n",
       "      <td>21</td>\n",
       "      <td>False</td>\n",
       "      <td>7</td>\n",
       "      <td>3</td>\n",
       "      <td>True</td>\n",
       "      <td>8.02500</td>\n",
       "      <td>9.97500</td>\n",
       "      <td>0.0</td>\n",
       "      <td>5.19</td>\n",
       "      <td>False</td>\n",
       "      <td>8620.873047</td>\n",
       "    </tr>\n",
       "  </tbody>\n",
       "</table>\n",
       "</div>"
      ],
      "text/plain": [
       "                           month  year  dayofyear  weekofyear  is_weekend  \\\n",
       "timestamp                                                                   \n",
       "2026-05-21 03:00:00+00:00      5  2026        141          21       False   \n",
       "2026-05-21 04:00:00+00:00      5  2026        141          21       False   \n",
       "2026-05-21 05:00:00+00:00      5  2026        141          21       False   \n",
       "2026-05-21 06:00:00+00:00      5  2026        141          21       False   \n",
       "2026-05-21 07:00:00+00:00      5  2026        141          21       False   \n",
       "\n",
       "                           hour  dayofweek  is_peak  Avg_temp       HDH  CDH  \\\n",
       "timestamp                                                                      \n",
       "2026-05-21 03:00:00+00:00     3          3    False   5.53125  12.46875  0.0   \n",
       "2026-05-21 04:00:00+00:00     4          3    False   5.32500  12.67500  0.0   \n",
       "2026-05-21 05:00:00+00:00     5          3    False   5.05625  12.94375  0.0   \n",
       "2026-05-21 06:00:00+00:00     6          3    False   6.23750  11.76250  0.0   \n",
       "2026-05-21 07:00:00+00:00     7          3     True   8.02500   9.97500  0.0   \n",
       "\n",
       "                           Population_Millions  is_holiday  \\\n",
       "timestamp                                                    \n",
       "2026-05-21 03:00:00+00:00                 5.19       False   \n",
       "2026-05-21 04:00:00+00:00                 5.19       False   \n",
       "2026-05-21 05:00:00+00:00                 5.19       False   \n",
       "2026-05-21 06:00:00+00:00                 5.19       False   \n",
       "2026-05-21 07:00:00+00:00                 5.19       False   \n",
       "\n",
       "                           system_demand_predicted  \n",
       "timestamp                                           \n",
       "2026-05-21 03:00:00+00:00              7956.147461  \n",
       "2026-05-21 04:00:00+00:00              8022.774902  \n",
       "2026-05-21 05:00:00+00:00              8069.784180  \n",
       "2026-05-21 06:00:00+00:00              8283.999023  \n",
       "2026-05-21 07:00:00+00:00              8620.873047  "
      ]
     },
     "metadata": {},
     "output_type": "display_data"
    }
   ],
   "source": [
    "# Generate lagged demand features for the one-year forecast (iterative forecasting)\n",
    "lags_to_include = [f'demand_lag_{i}' for i in range(1, 25)] + ['demand_lag_168', 'demand_lag_336']\n",
    "\n",
    "# Create a temporary dataframe to store predictions and use for lags\n",
    "one_year_forecast_df = future_data.copy() # Start with the dataframe containing all the features\n",
    "one_year_forecast_df['system_demand_predicted'] = np.nan\n",
    "\n",
    "# Get the last few actual demand values from the historical data to initialize lags\n",
    "max_lag = 336\n",
    "last_demand_values = demand_df_final['system_demand'].iloc[-max_lag:]\n",
    "initial_lags = last_demand_values.tolist()\n",
    "\n",
    "\n",
    "for i in range(len(one_year_forecast_df)):\n",
    "    # Get the current timestamp and features\n",
    "    current_timestamp = one_year_forecast_df.index[i]\n",
    "    current_features = one_year_forecast_df.iloc[i].copy()\n",
    "\n",
    "    # Fill in the lagged demand values\n",
    "    for lag_col in lags_to_include:\n",
    "        lag_period = int(lag_col.split('_')[-1])\n",
    "        if i - lag_period >= 0:\n",
    "            # Use predicted demand from previous steps for lags within the forecast horizon\n",
    "            current_features[lag_col] = one_year_forecast_df['system_demand_predicted'].iloc[i - lag_period]\n",
    "        else:\n",
    "             # Calculate the index in the initial_lags list\n",
    "            initial_lag_index = len(initial_lags) - (lag_period - i)\n",
    "            if 0 <= initial_lag_index < len(initial_lags):\n",
    "                current_features[lag_col] = initial_lags[initial_lag_index]\n",
    "            else:\n",
    "                # Handle cases where the lag period is beyond the available historical data\n",
    "                current_features[lag_col] = np.nan # Or some other appropriate value\n",
    "\n",
    "\n",
    "\n",
    "    # Ensure the order of columns matches the training data\n",
    "    current_features = current_features[X_train.columns]\n",
    "\n",
    "    # Reshape for prediction\n",
    "    current_features_reshaped = current_features.values.reshape(1, -1)\n",
    "\n",
    "    # Predict demand for the current timestamp using the XGBoost model\n",
    "    predicted_demand = xgb_model.predict(current_features_reshaped)[0]\n",
    "\n",
    "    # Store the prediction\n",
    "    one_year_forecast_df.loc[current_timestamp, 'system_demand_predicted'] = predicted_demand\n",
    "\n",
    "print(\"One-year forecast data (head):\")\n",
    "display(one_year_forecast_df.head())\n",
    "\n",
    "print(\"\\nOne-year forecast data (tail):\")\n",
    "display(one_year_forecast_df.tail())"
   ]
  },
  {
   "cell_type": "code",
   "execution_count": 55,
   "id": "73d33d92",
   "metadata": {},
   "outputs": [
    {
     "name": "stderr",
     "output_type": "stream",
     "text": [
      "C:\\Users\\cb44a\\AppData\\Local\\Temp\\ipykernel_9008\\2723614515.py:2: SettingWithCopyWarning: \n",
      "A value is trying to be set on a copy of a slice from a DataFrame\n",
      "\n",
      "See the caveats in the documentation: https://pandas.pydata.org/pandas-docs/stable/user_guide/indexing.html#returning-a-view-versus-a-copy\n",
      "  forecast.rename({'Avg_temp': 'Average Temperature', 'system_demand_predicted': 'Forecasted Power Demand'}, axis=1, inplace=True)\n"
     ]
    }
   ],
   "source": [
    "forecast=one_year_forecast_df[['Avg_temp', 'system_demand_predicted']]\n",
    "forecast.rename({'Avg_temp': 'Average Temperature', 'system_demand_predicted': 'Forecasted Power Demand'}, axis=1, inplace=True)\n",
    "# Save forecast to CSV\n",
    "forecast.to_csv('../outputs/forecast.csv')"
   ]
  },
  {
   "cell_type": "code",
   "execution_count": 51,
   "id": "5f8dc813",
   "metadata": {},
   "outputs": [
    {
     "data": {
      "image/png": "[encoded data removed]",
      "text/plain": [
       "<Figure size 1800x800 with 1 Axes>"
      ]
     },
     "metadata": {},
     "output_type": "display_data"
    }
   ],
   "source": [
    "#plot to see the forecast to future for next one year hourly\n",
    "plt.figure(figsize=(18, 8))\n",
    "plt.plot(demand_df_final.index, demand_df_final['system_demand'], label='Historical Demand')\n",
    "plt.plot(one_year_forecast_df.index, one_year_forecast_df['system_demand_predicted'], label='One-Year Forecast')\n",
    "plt.xlabel('Timestamp')\n",
    "plt.ylabel('Demand (MW)')\n",
    "plt.title('Demand Historical Data and One-Year Forecast')\n",
    "plt.legend()\n",
    "plt.grid(True)\n",
    "plt.show()"
   ]
  }
 ],
 "metadata": {
  "kernelspec": {
   "display_name": "energetic-env",
   "language": "python",
   "name": "python3"
  },
  "language_info": {
   "codemirror_mode": {
    "name": "ipython",
    "version": 3
   },
   "file_extension": ".py",
   "mimetype": "text/x-python",
   "name": "python",
   "nbconvert_exporter": "python",
   "pygments_lexer": "ipython3",
   "version": "3.10.18"
  }
 },
 "nbformat": 4,
 "nbformat_minor": 5
}
